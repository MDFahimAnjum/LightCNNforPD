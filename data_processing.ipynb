{
 "cells": [
  {
   "cell_type": "markdown",
   "metadata": {},
   "source": [
    "## Data processing\n",
    "This is step 1 where we load the raw data\n",
    "\n",
    "The paths utilized are defiend in the `path_module.py`\n",
    "\n",
    "### 1. Import libraries"
   ]
  },
  {
   "cell_type": "code",
   "execution_count": 1,
   "metadata": {},
   "outputs": [],
   "source": [
    "from modules.processing_module import *\n",
    "from modules.path_module import *\n",
    "import joblib\n",
    "import os"
   ]
  },
  {
   "cell_type": "markdown",
   "metadata": {},
   "source": [
    "### 2. load raw data\n",
    "The raw data are selected after manual inspection"
   ]
  },
  {
   "cell_type": "code",
   "execution_count": 2,
   "metadata": {},
   "outputs": [
    {
     "name": "stdout",
     "output_type": "stream",
     "text": [
      "data/raw/P01.csv\n",
      "data/raw/P03.csv\n",
      "data/raw/P04.csv\n",
      "data/raw/P05.csv\n",
      "data/raw/P06.csv\n",
      "data/raw/P08.csv\n",
      "data/raw/P09.csv\n",
      "data/raw/P10.csv\n",
      "data/raw/P11.csv\n",
      "data/raw/P12.csv\n",
      "data/raw/P13.csv\n",
      "data/raw/P14.csv\n",
      "data/raw/P15.csv\n",
      "data/raw/P16.csv\n",
      "data/raw/P17.csv\n",
      "data/raw/P19.csv\n",
      "data/raw/P21.csv\n",
      "data/raw/P22.csv\n",
      "data/raw/P23.csv\n",
      "data/raw/P24.csv\n",
      "data/raw/P25.csv\n",
      "data/raw/P26.csv\n",
      "data/raw/C01.csv\n",
      "data/raw/C02.csv\n",
      "data/raw/C03.csv\n",
      "data/raw/C04.csv\n",
      "data/raw/C05.csv\n",
      "data/raw/C07.csv\n",
      "data/raw/C08.csv\n",
      "data/raw/C09.csv\n",
      "data/raw/C10.csv\n",
      "data/raw/C11.csv\n",
      "data/raw/C12.csv\n",
      "data/raw/C13.csv\n",
      "data/raw/C14.csv\n",
      "data/raw/C16.csv\n",
      "data/raw/C17.csv\n",
      "data/raw/C18.csv\n",
      "data/raw/C19.csv\n",
      "data/raw/C21.csv\n",
      "data/raw/C22.csv\n",
      "data/raw/C23.csv\n",
      "data/raw/C24.csv\n",
      "data/raw/C25.csv\n",
      "data/raw/C26.csv\n",
      "data/raw/C27.csv\n"
     ]
    }
   ],
   "source": [
    "pd=[1,3,4,5,6,8,9,10,11,12,13,14,15,16,17,19,21,22,23,24,25,26]\n",
    "cr=[1,2,3,4,5,7,8,9,10,11,12,13,14,16,17,18,19,21,22,23,24,25,26,27]\n",
    "allList=(pd,cr)\n",
    "grps=['P','C']\n",
    "Fs=500\n",
    "dataset=data_load(allList,grps,Fs)"
   ]
  },
  {
   "cell_type": "markdown",
   "metadata": {},
   "source": [
    "### 3. Data segmentation and train-val-test split\n",
    "\n",
    "Signals are segmented into 5 second windows and split into training, validation and test dataset for each subject"
   ]
  },
  {
   "cell_type": "code",
   "execution_count": 3,
   "metadata": {},
   "outputs": [],
   "source": [
    "segLength=5\n",
    "datasplit=(0.6,0.2,0.2)\n",
    "train_data,val_data,test_data=data_prepare(dataset,segLength,datasplit)"
   ]
  },
  {
   "cell_type": "markdown",
   "metadata": {},
   "source": [
    "### 4. Save the processed datasets\n"
   ]
  },
  {
   "cell_type": "code",
   "execution_count": 4,
   "metadata": {},
   "outputs": [
    {
     "data": {
      "text/plain": [
       "['c:\\\\Users\\\\fahim\\\\Documents\\\\MyBertProject\\\\data/processed\\\\test_data.joblib']"
      ]
     },
     "execution_count": 4,
     "metadata": {},
     "output_type": "execute_result"
    }
   ],
   "source": [
    "joblib.dump(train_data, os.path.join(processed_datapath,\"train_data.joblib\"))\n",
    "joblib.dump(val_data, os.path.join(processed_datapath,\"val_data.joblib\"))\n",
    "joblib.dump(test_data, os.path.join(processed_datapath,\"test_data.joblib\"))"
   ]
  }
 ],
 "metadata": {
  "kernelspec": {
   "display_name": "mybertV2",
   "language": "python",
   "name": "python3"
  },
  "language_info": {
   "codemirror_mode": {
    "name": "ipython",
    "version": 3
   },
   "file_extension": ".py",
   "mimetype": "text/x-python",
   "name": "python",
   "nbconvert_exporter": "python",
   "pygments_lexer": "ipython3",
   "version": "3.9.18"
  }
 },
 "nbformat": 4,
 "nbformat_minor": 2
}
