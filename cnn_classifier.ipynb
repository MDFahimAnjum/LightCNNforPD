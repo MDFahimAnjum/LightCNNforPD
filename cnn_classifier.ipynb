{
 "cells": [
  {
   "cell_type": "markdown",
   "metadata": {},
   "source": [
    "## Binary classification with DeepCNN\n",
    "\n",
    "The paths utilized are defiend in the `path_module.py`\n",
    "\n",
    "Before this, the data must be processed. \n",
    "- `data_processing` notebook loads raw data and prepares training,validation and test dataset\n",
    "\n",
    "### 1. Import libraries"
   ]
  },
  {
   "cell_type": "code",
   "execution_count": 1,
   "metadata": {},
   "outputs": [],
   "source": [
    "from modules.path_module import *\n",
    "from modules.utils_module import *\n",
    "import os\n",
    "import joblib\n",
    "import torch\n",
    "import numpy as np\n",
    "import matplotlib.pyplot as plt"
   ]
  },
  {
   "cell_type": "markdown",
   "metadata": {},
   "source": [
    "### 2. Load data"
   ]
  },
  {
   "cell_type": "code",
   "execution_count": 2,
   "metadata": {},
   "outputs": [],
   "source": [
    "train_data=joblib.load(os.path.join(processed_datapath,\"train_data.joblib\"))\n",
    "test_data=joblib.load(os.path.join(processed_datapath,\"test_data.joblib\"))\n",
    "val_data=joblib.load(os.path.join(processed_datapath,\"val_data.joblib\"))"
   ]
  },
  {
   "cell_type": "markdown",
   "metadata": {},
   "source": [
    "### 3. Prepare data \n",
    "- We train using the training set and save the model that gives the best performance on the validation set"
   ]
  },
  {
   "cell_type": "code",
   "execution_count": 3,
   "metadata": {},
   "outputs": [],
   "source": [
    "train_sigdata,train_label=prepare_cnn_data(train_data)\n",
    "val_sigdata,val_label=prepare_cnn_data(val_data)\n",
    "test_sigdata,test_label=prepare_cnn_data(test_data)"
   ]
  },
  {
   "cell_type": "markdown",
   "metadata": {},
   "source": [
    "### 4. DeepCNN model"
   ]
  },
  {
   "cell_type": "markdown",
   "metadata": {},
   "source": [
    "Paper: https://link.springer.com/article/10.1007/s00521-018-3689-5\n",
    "\n",
    "Architecture: https://link.springer.com/article/10.1007/s00521-018-3689-5/tables/1"
   ]
  },
  {
   "cell_type": "markdown",
   "metadata": {},
   "source": [
    "| Layers | Layer name    | Kernel size | No. of filters | Stride | Output shape | No. of trainable parameters | Regularization  |\n",
    "|--------|---------------|-------------|----------------|--------|--------------|-----------------------------|-----------------|\n",
    "| 0      | Input         | –           | –              | –      | 2500 x 59    | 0                           | –               |\n",
    "| 1      | 1D convolution| 20 x 1      | 5              | 1      | 2481 x 5     | 6000                        | –               |\n",
    "| 2      | Max-pooling   | 2 x 1       | 5              | 2      | 1240 x 5     | 0                           | –               |\n",
    "| 3      | 1D convolution| 10 x 1      | 10             | 1      | 1231 x 10    | 5000                        | –               |\n",
    "| 4      | Max-pooling   | 2 x 1       | 10             | 2      | 615 x 10     | 0                           | –               |\n",
    "| 5      | 1D convolution| 10 x 1      | 10             | 1      | 606 x 10     | 10000                       | –               |\n",
    "| 6      | Max-pooling   | 2 x 1       | 10             | 2      | 303 x 10     | 0                           | –               |\n",
    "| 7      | 1D convolution| 5 x 1       | 15             | 1      | 299 x 15     | 7500                        | –               |\n",
    "| 8      | Max-pooling   | 2 x 1       | 15             | 2      | 149 x 15     | 0                           | –               |\n",
    "| 10     | Dense         | –           | –              | –      | 20           | 44800                       | Dropout (0.5)   |\n",
    "| 12     | Dense         | –           | –              | –      | 10           | 210                         | Dropout (0.5)   |\n",
    "| 13     | Dense         | –           | –              | –      | 2            | 22                          | –               |\n",
    "|        | Total         |             |                |        |              | 68332                       |                 |\n"
   ]
  },
  {
   "cell_type": "code",
   "execution_count": 4,
   "metadata": {},
   "outputs": [],
   "source": [
    "import torch.nn as nn\n",
    "import torch.nn.functional as F\n",
    "\n",
    "class CNN_Model(nn.Module):\n",
    "    def __init__(self,chan_total,signal_length):\n",
    "        super(CNN_Model, self).__init__()\n",
    "        self.conv1 = nn.Conv1d(in_channels=chan_total, out_channels=5, kernel_size=20, stride=1,padding=0)\n",
    "        self.pool = nn.AvgPool1d(kernel_size=2)\n",
    "        self.conv2=nn.Conv1d(in_channels=5, out_channels=10, kernel_size=10, stride=1,padding=0)\n",
    "        self.conv3=nn.Conv1d(in_channels=10, out_channels=10, kernel_size=10, stride=1,padding=0)\n",
    "        self.conv4=nn.Conv1d(in_channels=10, out_channels=15, kernel_size=5, stride=1,padding=0)\n",
    "        self.fc1 = nn.Linear(int(149*15), 20)\n",
    "        self.fc2 = nn.Linear(20, 10)\n",
    "        self.fc3 = nn.Linear(10, 2)\n",
    "        self.dropout = nn.Dropout(0.5)\n",
    "        \n",
    "    def forward(self, x):\n",
    "        x = F.relu(self.conv1(x)) # layer 1\n",
    "        x = self.pool(x) # layer 2\n",
    "        x=F.relu(self.conv2(x)) # layer 3\n",
    "        x = self.pool(x) # layer 4\n",
    "        x=F.relu(self.conv3(x)) # layer 5\n",
    "        x = self.pool(x) # layer 6\n",
    "        x=F.relu(self.conv4(x)) # layer 7\n",
    "        x = self.pool(x) # layer 8\n",
    "        x = x.view(-1, int(149*15)) \n",
    "        x = self.dropout(x) # layer 9\n",
    "        x=self.fc1(x) # layer 10\n",
    "        x = self.dropout(x) # layer 11\n",
    "        x=self.fc2(x) # layer 12\n",
    "        x=self.fc3(x) # layer 13\n",
    "        return x"
   ]
  },
  {
   "cell_type": "markdown",
   "metadata": {},
   "source": [
    "### 5. Initialize model"
   ]
  },
  {
   "cell_type": "code",
   "execution_count": 5,
   "metadata": {},
   "outputs": [
    {
     "name": "stdout",
     "output_type": "stream",
     "text": [
      "Running on: cpu\n",
      "Model created\n"
     ]
    }
   ],
   "source": [
    "import torch.optim as optim\n",
    "from torch import cuda\n",
    "\n",
    "# Set the random seed for reproducibility\n",
    "random_seed = 42\n",
    "random.seed(random_seed)\n",
    "torch.manual_seed(random_seed)\n",
    "torch.cuda.manual_seed(random_seed)\n",
    "np.random.seed(random_seed)\n",
    "\n",
    "# use GPU\n",
    "device='cpu'#'cuda' if cuda.is_available() else 'cpu'\n",
    "print(\"Running on: \"+device)\n",
    "cuda.empty_cache()\n",
    "\n",
    "# initialize model\n",
    "n_chan=train_data[0].data.shape[1]\n",
    "n_datalength=train_data[0].data.shape[0]\n",
    "model = CNN_Model(n_chan,n_datalength)\n",
    "model.to(device)\n",
    "print('Model created')"
   ]
  },
  {
   "cell_type": "markdown",
   "metadata": {},
   "source": [
    "### 6. Configure Training"
   ]
  },
  {
   "cell_type": "code",
   "execution_count": 6,
   "metadata": {},
   "outputs": [],
   "source": [
    "batch_size = 16#1 # could not find\n",
    "#num_epochs = 64\n",
    "num_epochs = 70 # from paper\n",
    "lrate=1e-4 #from paper\n",
    "patience=80 # no early stopping from paper\n",
    "# Define loss function and optimizer\n",
    "criterion = nn.BCELoss()\n",
    "optimizer = optim.Adam(model.parameters(), lr=lrate)\n",
    "cnn_modelfullpath=os.path.join(cnn_modelpath,'cnn.pt')\n",
    "\n",
    "training_arg={\n",
    "    'modelfullpath': cnn_modelfullpath,\n",
    "    'criterion': criterion,\n",
    "    'optimizer': optimizer,\n",
    "    'epochs': num_epochs,\n",
    "    'patience': patience,\n",
    "    'seed': random_seed\n",
    "}"
   ]
  },
  {
   "cell_type": "markdown",
   "metadata": {},
   "source": [
    "### 7. Prepare data"
   ]
  },
  {
   "cell_type": "code",
   "execution_count": 7,
   "metadata": {},
   "outputs": [],
   "source": [
    "from torch.utils.data import DataLoader, TensorDataset\n",
    "\n",
    "train_dataset = TensorDataset(torch.stack(train_sigdata), torch.stack(train_label))\n",
    "val_dataset = TensorDataset(torch.stack(val_sigdata), torch.stack(val_label))\n",
    "test_dataset = TensorDataset(torch.stack(test_sigdata), torch.stack(test_label))\n",
    "\n",
    "train_loader = DataLoader(train_dataset, batch_size=batch_size, shuffle=True)\n",
    "val_loader = DataLoader(val_dataset, batch_size=1, shuffle=False)\n",
    "test_loader = DataLoader(test_dataset, batch_size=1, shuffle=False)"
   ]
  },
  {
   "cell_type": "markdown",
   "metadata": {},
   "source": [
    "### 8. Train model"
   ]
  },
  {
   "cell_type": "code",
   "execution_count": 8,
   "metadata": {},
   "outputs": [
    {
     "name": "stderr",
     "output_type": "stream",
     "text": [
      "Epoch 1/70: 100%|██████████| 21/21 [00:02<00:00,  8.89it/s]\n"
     ]
    },
    {
     "name": "stdout",
     "output_type": "stream",
     "text": [
      "model state saved with validation accuracy: 51.4493\n"
     ]
    },
    {
     "name": "stderr",
     "output_type": "stream",
     "text": [
      "Epoch 2/70: 100%|██████████| 21/21 [00:00<00:00, 27.95it/s]\n"
     ]
    },
    {
     "name": "stdout",
     "output_type": "stream",
     "text": [
      "model state saved with validation accuracy: 56.5217\n"
     ]
    },
    {
     "name": "stderr",
     "output_type": "stream",
     "text": [
      "Epoch 3/70: 100%|██████████| 21/21 [00:00<00:00, 30.03it/s]\n",
      "Epoch 4/70: 100%|██████████| 21/21 [00:00<00:00, 26.50it/s]\n"
     ]
    },
    {
     "name": "stdout",
     "output_type": "stream",
     "text": [
      "model state saved with validation accuracy: 58.6957\n"
     ]
    },
    {
     "name": "stderr",
     "output_type": "stream",
     "text": [
      "Epoch 5/70: 100%|██████████| 21/21 [00:00<00:00, 27.65it/s]\n",
      "Epoch 6/70: 100%|██████████| 21/21 [00:00<00:00, 30.08it/s]\n",
      "Epoch 7/70: 100%|██████████| 21/21 [00:00<00:00, 29.96it/s]\n",
      "Epoch 8/70: 100%|██████████| 21/21 [00:00<00:00, 30.77it/s]\n",
      "Epoch 9/70: 100%|██████████| 21/21 [00:00<00:00, 30.59it/s]\n",
      "Epoch 10/70: 100%|██████████| 21/21 [00:00<00:00, 30.65it/s]\n",
      "Epoch 11/70: 100%|██████████| 21/21 [00:00<00:00, 30.21it/s]\n",
      "Epoch 12/70: 100%|██████████| 21/21 [00:00<00:00, 29.95it/s]\n",
      "Epoch 13/70: 100%|██████████| 21/21 [00:00<00:00, 29.73it/s]\n",
      "Epoch 14/70: 100%|██████████| 21/21 [00:00<00:00, 29.98it/s]\n",
      "Epoch 15/70: 100%|██████████| 21/21 [00:00<00:00, 30.25it/s]\n",
      "Epoch 16/70: 100%|██████████| 21/21 [00:00<00:00, 30.59it/s]\n"
     ]
    },
    {
     "name": "stdout",
     "output_type": "stream",
     "text": [
      "model state saved with validation accuracy: 59.4203\n"
     ]
    },
    {
     "name": "stderr",
     "output_type": "stream",
     "text": [
      "Epoch 17/70: 100%|██████████| 21/21 [00:00<00:00, 27.68it/s]\n",
      "Epoch 18/70: 100%|██████████| 21/21 [00:00<00:00, 30.28it/s]\n"
     ]
    },
    {
     "name": "stdout",
     "output_type": "stream",
     "text": [
      "model state saved with validation accuracy: 60.1449\n"
     ]
    },
    {
     "name": "stderr",
     "output_type": "stream",
     "text": [
      "Epoch 19/70: 100%|██████████| 21/21 [00:00<00:00, 29.48it/s]\n",
      "Epoch 20/70: 100%|██████████| 21/21 [00:00<00:00, 30.39it/s]\n",
      "Epoch 21/70: 100%|██████████| 21/21 [00:00<00:00, 30.72it/s]\n",
      "Epoch 22/70: 100%|██████████| 21/21 [00:00<00:00, 31.24it/s]\n",
      "Epoch 23/70: 100%|██████████| 21/21 [00:00<00:00, 29.93it/s]\n",
      "Epoch 24/70: 100%|██████████| 21/21 [00:00<00:00, 31.08it/s]\n",
      "Epoch 25/70: 100%|██████████| 21/21 [00:00<00:00, 30.43it/s]\n",
      "Epoch 26/70: 100%|██████████| 21/21 [00:00<00:00, 31.39it/s]\n",
      "Epoch 27/70: 100%|██████████| 21/21 [00:00<00:00, 31.80it/s]\n",
      "Epoch 28/70: 100%|██████████| 21/21 [00:00<00:00, 31.02it/s]\n"
     ]
    },
    {
     "name": "stdout",
     "output_type": "stream",
     "text": [
      "model state saved with validation accuracy: 61.5942\n"
     ]
    },
    {
     "name": "stderr",
     "output_type": "stream",
     "text": [
      "Epoch 29/70: 100%|██████████| 21/21 [00:00<00:00, 31.15it/s]\n",
      "Epoch 30/70: 100%|██████████| 21/21 [00:00<00:00, 30.44it/s]\n",
      "Epoch 31/70: 100%|██████████| 21/21 [00:00<00:00, 31.15it/s]\n",
      "Epoch 32/70: 100%|██████████| 21/21 [00:00<00:00, 31.29it/s]\n",
      "Epoch 33/70: 100%|██████████| 21/21 [00:00<00:00, 31.30it/s]\n"
     ]
    },
    {
     "name": "stdout",
     "output_type": "stream",
     "text": [
      "model state saved with validation accuracy: 66.6667\n"
     ]
    },
    {
     "name": "stderr",
     "output_type": "stream",
     "text": [
      "Epoch 34/70: 100%|██████████| 21/21 [00:00<00:00, 29.04it/s]\n",
      "Epoch 35/70: 100%|██████████| 21/21 [00:00<00:00, 28.99it/s]\n",
      "Epoch 36/70: 100%|██████████| 21/21 [00:00<00:00, 30.89it/s]\n",
      "Epoch 37/70: 100%|██████████| 21/21 [00:00<00:00, 30.67it/s]\n",
      "Epoch 38/70: 100%|██████████| 21/21 [00:00<00:00, 29.43it/s]\n",
      "Epoch 39/70: 100%|██████████| 21/21 [00:00<00:00, 31.84it/s]\n",
      "Epoch 40/70: 100%|██████████| 21/21 [00:00<00:00, 31.63it/s]\n",
      "Epoch 41/70: 100%|██████████| 21/21 [00:00<00:00, 29.53it/s]\n",
      "Epoch 42/70: 100%|██████████| 21/21 [00:00<00:00, 29.37it/s]\n",
      "Epoch 43/70: 100%|██████████| 21/21 [00:00<00:00, 29.40it/s]\n",
      "Epoch 44/70: 100%|██████████| 21/21 [00:00<00:00, 31.58it/s]\n",
      "Epoch 45/70: 100%|██████████| 21/21 [00:00<00:00, 32.04it/s]\n",
      "Epoch 46/70: 100%|██████████| 21/21 [00:00<00:00, 31.74it/s]\n",
      "Epoch 47/70: 100%|██████████| 21/21 [00:00<00:00, 31.01it/s]\n",
      "Epoch 48/70: 100%|██████████| 21/21 [00:00<00:00, 30.12it/s]\n",
      "Epoch 49/70: 100%|██████████| 21/21 [00:00<00:00, 32.33it/s]\n",
      "Epoch 50/70: 100%|██████████| 21/21 [00:00<00:00, 32.11it/s]\n",
      "Epoch 51/70: 100%|██████████| 21/21 [00:00<00:00, 31.24it/s]\n",
      "Epoch 52/70: 100%|██████████| 21/21 [00:00<00:00, 31.20it/s]\n",
      "Epoch 53/70: 100%|██████████| 21/21 [00:00<00:00, 31.69it/s]\n",
      "Epoch 54/70: 100%|██████████| 21/21 [00:00<00:00, 32.06it/s]\n",
      "Epoch 55/70: 100%|██████████| 21/21 [00:00<00:00, 31.85it/s]\n",
      "Epoch 56/70: 100%|██████████| 21/21 [00:00<00:00, 31.51it/s]\n",
      "Epoch 57/70: 100%|██████████| 21/21 [00:00<00:00, 31.10it/s]\n",
      "Epoch 58/70: 100%|██████████| 21/21 [00:00<00:00, 30.95it/s]\n",
      "Epoch 59/70: 100%|██████████| 21/21 [00:00<00:00, 31.67it/s]\n",
      "Epoch 60/70: 100%|██████████| 21/21 [00:00<00:00, 31.32it/s]\n",
      "Epoch 61/70: 100%|██████████| 21/21 [00:00<00:00, 31.71it/s]\n",
      "Epoch 62/70: 100%|██████████| 21/21 [00:00<00:00, 29.54it/s]\n",
      "Epoch 63/70: 100%|██████████| 21/21 [00:00<00:00, 35.58it/s]\n",
      "Epoch 64/70: 100%|██████████| 21/21 [00:00<00:00, 35.53it/s]\n",
      "Epoch 65/70: 100%|██████████| 21/21 [00:00<00:00, 34.93it/s]\n"
     ]
    },
    {
     "name": "stdout",
     "output_type": "stream",
     "text": [
      "model state saved with validation accuracy: 68.1159\n"
     ]
    },
    {
     "name": "stderr",
     "output_type": "stream",
     "text": [
      "Epoch 66/70: 100%|██████████| 21/21 [00:00<00:00, 32.39it/s]\n",
      "Epoch 67/70: 100%|██████████| 21/21 [00:00<00:00, 33.65it/s]\n",
      "Epoch 68/70: 100%|██████████| 21/21 [00:00<00:00, 33.38it/s]\n",
      "Epoch 69/70: 100%|██████████| 21/21 [00:00<00:00, 33.40it/s]\n",
      "Epoch 70/70: 100%|██████████| 21/21 [00:00<00:00, 34.73it/s]\n"
     ]
    }
   ],
   "source": [
    "results= model_trainer(model,train_loader,val_loader,training_arg)"
   ]
  },
  {
   "cell_type": "markdown",
   "metadata": {},
   "source": [
    "### 9. Inspect training process"
   ]
  },
  {
   "cell_type": "code",
   "execution_count": 11,
   "metadata": {},
   "outputs": [
    {
     "data": {
      "image/png": "[encoded data removed]",
      "text/plain": [
       "<Figure size 640x480 with 1 Axes>"
      ]
     },
     "metadata": {},
     "output_type": "display_data"
    },
    {
     "data": {
      "image/png": "[encoded data removed]",
      "text/plain": [
       "<Figure size 640x480 with 1 Axes>"
      ]
     },
     "metadata": {},
     "output_type": "display_data"
    }
   ],
   "source": [
    "plt.figure()\n",
    "plt.plot(results['epoch_loss'])\n",
    "plt.xlabel('epoch')\n",
    "plt.ylabel('Avg loss')\n",
    "plt.show()\n",
    "\n",
    "\n",
    "plt.figure()\n",
    "plt.plot(results['training_acc'],label='Training data')\n",
    "plt.plot(results['validation_acc'],label='Validation data')\n",
    "plt.legend()\n",
    "plt.xlabel('epoch')\n",
    "plt.ylabel('Accuracy')\n",
    "plt.show()"
   ]
  },
  {
   "cell_type": "markdown",
   "metadata": {},
   "source": [
    "### 10. Evaluate model"
   ]
  },
  {
   "cell_type": "code",
   "execution_count": 8,
   "metadata": {},
   "outputs": [
    {
     "name": "stdout",
     "output_type": "stream",
     "text": [
      "Fine tune model loaded\n",
      "Train Binary Accuracy: 93.1677\n",
      "Confusion Matrix:\n",
      "[[168   0]\n",
      " [ 22 132]]\n",
      "Accuracy: 93.16770186335404\n",
      "Precision: 100.0\n",
      "Sensitivity (Recall): 85.71428571428571\n",
      "Specificity: 100.0\n",
      "F1 Score: 0.923076923076923\n",
      "AUC Score: 0.9969465058750774\n",
      "\n",
      "\n",
      "Validation Binary Accuracy: 68.1159\n",
      "Confusion Matrix:\n",
      "[[62 10]\n",
      " [34 32]]\n",
      "Accuracy: 68.11594202898551\n",
      "Precision: 76.19047619047619\n",
      "Sensitivity (Recall): 48.484848484848484\n",
      "Specificity: 86.11111111111111\n",
      "F1 Score: 0.5925925925925926\n",
      "AUC Score: 0.6616161616161615\n",
      "\n",
      "\n",
      "Test Binary Accuracy: 58.6957\n",
      "Confusion Matrix:\n",
      "[[36 12]\n",
      " [26 18]]\n",
      "Accuracy: 58.69565217391305\n",
      "Precision: 60.0\n",
      "Sensitivity (Recall): 40.909090909090914\n",
      "Specificity: 75.0\n",
      "F1 Score: 0.4864864864864865\n",
      "AUC Score: 0.6287878787878788\n",
      "Completed\n"
     ]
    }
   ],
   "source": [
    "best_model_state=torch.load(cnn_modelfullpath, map_location=device)\n",
    "model.load_state_dict(best_model_state,strict=True)\n",
    "model.eval()\n",
    "print('Fine tune model loaded')\n",
    "\n",
    "tr_accuracy, tr_est,tr_labels,tr_scores= evaluate_binary_accuracy(model, train_loader)\n",
    "print(f'Train Binary Accuracy: {tr_accuracy:.4f}')\n",
    "perf_metrics(tr_labels, tr_est,tr_scores)\n",
    "print('\\n')\n",
    "v_accuracy,val_est,val_labels, val_scores = evaluate_binary_accuracy(model, val_loader)\n",
    "print(f'Validation Binary Accuracy: {v_accuracy:.4f}')\n",
    "perf_metrics(val_labels, val_est,val_scores)\n",
    "print('\\n')\n",
    "test_accuracy,test_est,test_labels, test_scores = evaluate_binary_accuracy(model, test_loader)\n",
    "print(f'Test Binary Accuracy: {test_accuracy:.4f}')\n",
    "perf_metrics(test_labels, test_est,test_scores)\n",
    "\n",
    "print('Completed')"
   ]
  },
  {
   "cell_type": "markdown",
   "metadata": {},
   "source": [
    "### Model Details"
   ]
  },
  {
   "cell_type": "code",
   "execution_count": 6,
   "metadata": {},
   "outputs": [
    {
     "name": "stdout",
     "output_type": "stream",
     "text": [
      "Model param total: 53142\n",
      "CNN_Model(\n",
      "  (conv1): Conv1d(59, 5, kernel_size=(20,), stride=(1,))\n",
      "  (pool): AvgPool1d(kernel_size=(2,), stride=(2,), padding=(0,))\n",
      "  (conv2): Conv1d(5, 10, kernel_size=(10,), stride=(1,))\n",
      "  (conv3): Conv1d(10, 10, kernel_size=(10,), stride=(1,))\n",
      "  (conv4): Conv1d(10, 15, kernel_size=(5,), stride=(1,))\n",
      "  (fc1): Linear(in_features=2235, out_features=20, bias=True)\n",
      "  (fc2): Linear(in_features=20, out_features=10, bias=True)\n",
      "  (fc3): Linear(in_features=10, out_features=2, bias=True)\n",
      "  (dropout): Dropout(p=0.5, inplace=False)\n",
      ")\n",
      "Output shape: torch.Size([1, 2])\n",
      "----------------------------------------------------------------\n",
      "        Layer (type)               Output Shape         Param #\n",
      "================================================================\n",
      "            Conv1d-1              [-1, 5, 2481]           5,905\n",
      "         AvgPool1d-2              [-1, 5, 1240]               0\n",
      "            Conv1d-3             [-1, 10, 1231]             510\n",
      "         AvgPool1d-4              [-1, 10, 615]               0\n",
      "            Conv1d-5              [-1, 10, 606]           1,010\n",
      "         AvgPool1d-6              [-1, 10, 303]               0\n",
      "            Conv1d-7              [-1, 15, 299]             765\n",
      "         AvgPool1d-8              [-1, 15, 149]               0\n",
      "           Dropout-9                 [-1, 2235]               0\n",
      "           Linear-10                   [-1, 20]          44,720\n",
      "          Dropout-11                   [-1, 20]               0\n",
      "           Linear-12                   [-1, 10]             210\n",
      "           Linear-13                    [-1, 2]              22\n",
      "================================================================\n",
      "Total params: 53,142\n",
      "Trainable params: 53,142\n",
      "Non-trainable params: 0\n",
      "----------------------------------------------------------------\n",
      "Input size (MB): 0.56\n",
      "Forward/backward pass size (MB): 0.42\n",
      "Params size (MB): 0.20\n",
      "Estimated Total Size (MB): 1.19\n",
      "----------------------------------------------------------------\n"
     ]
    }
   ],
   "source": [
    "from torchsummary import summary\n",
    "\n",
    "model_params = sum(p.numel() for p in model.parameters())\n",
    "print(f'Model param total: {model_params}')\n",
    "print(model)\n",
    "\n",
    "dummy_input = torch.randn(1, 59, 2500)  # Batch size of 1\n",
    "output = model(dummy_input)\n",
    "print(f\"Output shape: {output.shape}\")\n",
    "\n",
    "summary(model, input_size=(59, 2500), device=device)"
   ]
  }
 ],
 "metadata": {
  "kernelspec": {
   "display_name": "mybertV2",
   "language": "python",
   "name": "python3"
  },
  "language_info": {
   "codemirror_mode": {
    "name": "ipython",
    "version": 3
   },
   "file_extension": ".py",
   "mimetype": "text/x-python",
   "name": "python",
   "nbconvert_exporter": "python",
   "pygments_lexer": "ipython3",
   "version": "3.9.18"
  }
 },
 "nbformat": 4,
 "nbformat_minor": 2
}
