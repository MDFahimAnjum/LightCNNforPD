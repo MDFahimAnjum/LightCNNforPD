{
 "cells": [
  {
   "cell_type": "markdown",
   "metadata": {},
   "source": [
    "## Binary classification with Lightweight CNN\n",
    "\n",
    "The paths utilized are defiend in the `path_module.py`\n",
    "\n",
    "Before this, the data must be processed. \n",
    "- `data_processing` notebook loads raw data and prepares training,validation and test dataset\n",
    "\n",
    "\n",
    "### 1. Import libraries"
   ]
  },
  {
   "cell_type": "code",
   "execution_count": 1,
   "metadata": {},
   "outputs": [],
   "source": [
    "from modules.path_module import *\n",
    "from modules.utils_module import *\n",
    "import os\n",
    "import joblib\n",
    "import torch\n",
    "import numpy as np\n",
    "import matplotlib.pyplot as plt"
   ]
  },
  {
   "cell_type": "markdown",
   "metadata": {},
   "source": [
    "### 2. Load data"
   ]
  },
  {
   "cell_type": "code",
   "execution_count": 2,
   "metadata": {},
   "outputs": [],
   "source": [
    "train_data=joblib.load(os.path.join(processed_datapath,\"train_data.joblib\"))\n",
    "test_data=joblib.load(os.path.join(processed_datapath,\"test_data.joblib\"))\n",
    "val_data=joblib.load(os.path.join(processed_datapath,\"val_data.joblib\"))"
   ]
  },
  {
   "cell_type": "markdown",
   "metadata": {},
   "source": [
    "### 3. Prepare data \n",
    "- We train using the training set and save the model that gives the best performance on the validation set"
   ]
  },
  {
   "cell_type": "code",
   "execution_count": 3,
   "metadata": {},
   "outputs": [],
   "source": [
    "train_sigdata,train_label=prepare_cnn_data(train_data)\n",
    "val_sigdata,val_label=prepare_cnn_data(val_data)\n",
    "test_sigdata,test_label=prepare_cnn_data(test_data)"
   ]
  },
  {
   "cell_type": "markdown",
   "metadata": {},
   "source": [
    "### 4. Lightweight CNN model"
   ]
  },
  {
   "cell_type": "markdown",
   "metadata": {},
   "source": [
    "Let's define our simple CNN architecture which has one conv layer and one FC layer"
   ]
  },
  {
   "cell_type": "code",
   "execution_count": 49,
   "metadata": {},
   "outputs": [],
   "source": [
    "import torch.nn as nn\n",
    "import torch.nn.functional as F\n",
    "\n",
    "class CNN_Model(nn.Module):\n",
    "    def __init__(self,chan_total,signal_length):\n",
    "        super(CNN_Model, self).__init__()\n",
    "        self.stride=1\n",
    "        self.k_val=5\n",
    "        # conv: (chan x signal)--> (chan x signal/stride)\n",
    "        self.conv1 = nn.Conv1d(in_channels=chan_total, out_channels=chan_total, kernel_size=2*self.k_val+self.stride, stride=self.stride,padding=self.k_val) #k=lpc order ?#oc=2,k=4\n",
    "        # pool: (chan x signal/stride) --> (chan x 1)\n",
    "        self.pool1 = nn.AvgPool1d(kernel_size=int(signal_length/self.stride))\n",
    "        self.input_s=int(chan_total)\n",
    "        self.fc = nn.Linear(self.input_s, 2)\n",
    "        self.dropout = nn.Dropout(0.1)\n",
    "        \n",
    "    def forward(self, x):\n",
    "        x = F.relu(self.conv1(x))\n",
    "        x = self.dropout(x)\n",
    "        x = self.pool1(x)\n",
    "        x = x.view(-1, self.input_s)\n",
    "        x=self.fc(x)\n",
    "        return x"
   ]
  },
  {
   "cell_type": "markdown",
   "metadata": {},
   "source": [
    "### 5. Initialize model"
   ]
  },
  {
   "cell_type": "code",
   "execution_count": 51,
   "metadata": {},
   "outputs": [
    {
     "name": "stdout",
     "output_type": "stream",
     "text": [
      "Running on: cpu\n",
      "Model created\n"
     ]
    }
   ],
   "source": [
    "import torch.optim as optim\n",
    "from torch import cuda\n",
    "\n",
    "# Set the random seed for reproducibility\n",
    "random_seed = 42\n",
    "random.seed(random_seed)\n",
    "torch.manual_seed(random_seed)\n",
    "torch.cuda.manual_seed(random_seed)\n",
    "np.random.seed(random_seed)\n",
    "\n",
    "# use GPU\n",
    "device='cpu'#'cuda' if cuda.is_available() else 'cpu'\n",
    "print(\"Running on: \"+device)\n",
    "cuda.empty_cache()\n",
    "\n",
    "# initialize model\n",
    "n_chan=train_data[0].data.shape[1]\n",
    "n_datalength=train_data[0].data.shape[0]\n",
    "model = CNN_Model(n_chan,n_datalength)\n",
    "model.to(device)\n",
    "print('Model created')"
   ]
  },
  {
   "cell_type": "markdown",
   "metadata": {},
   "source": [
    "### 6. Configure Training"
   ]
  },
  {
   "cell_type": "code",
   "execution_count": 52,
   "metadata": {},
   "outputs": [],
   "source": [
    "batch_size = 2#1\n",
    "num_epochs = 80\n",
    "lrate=1e-4\n",
    "patience=80 # no early stopping from paper\n",
    "# Define loss function and optimizer\n",
    "criterion = nn.BCELoss()\n",
    "optimizer = optim.Adam(model.parameters(), lr=lrate)\n",
    "cnn_modelfullpath=os.path.join(cnn_modelpath,'light_cnn.pt')\n",
    "\n",
    "training_arg={\n",
    "    'modelfullpath': cnn_modelfullpath,\n",
    "    'criterion': criterion,\n",
    "    'optimizer': optimizer,\n",
    "    'epochs': num_epochs,\n",
    "    'patience': patience,\n",
    "    'seed': random_seed\n",
    "}"
   ]
  },
  {
   "cell_type": "markdown",
   "metadata": {},
   "source": [
    "### 7. Prepare data"
   ]
  },
  {
   "cell_type": "code",
   "execution_count": 53,
   "metadata": {},
   "outputs": [],
   "source": [
    "from torch.utils.data import DataLoader, TensorDataset\n",
    "\n",
    "train_dataset = TensorDataset(torch.stack(train_sigdata), torch.stack(train_label))\n",
    "val_dataset = TensorDataset(torch.stack(val_sigdata), torch.stack(val_label))\n",
    "test_dataset = TensorDataset(torch.stack(test_sigdata), torch.stack(test_label))\n",
    "\n",
    "train_loader = DataLoader(train_dataset, batch_size=batch_size, shuffle=True)\n",
    "val_loader = DataLoader(val_dataset, batch_size=1, shuffle=False)\n",
    "test_loader = DataLoader(test_dataset, batch_size=1, shuffle=False)"
   ]
  },
  {
   "cell_type": "markdown",
   "metadata": {},
   "source": [
    "### 8. Train model"
   ]
  },
  {
   "cell_type": "code",
   "execution_count": 54,
   "metadata": {},
   "outputs": [
    {
     "name": "stderr",
     "output_type": "stream",
     "text": [
      "Epoch 1/80: 100%|██████████| 161/161 [00:00<00:00, 162.10it/s]\n"
     ]
    },
    {
     "name": "stdout",
     "output_type": "stream",
     "text": [
      "model state saved with validation accuracy: 60.1449\n"
     ]
    },
    {
     "name": "stderr",
     "output_type": "stream",
     "text": [
      "Epoch 2/80: 100%|██████████| 161/161 [00:00<00:00, 166.35it/s]\n"
     ]
    },
    {
     "name": "stdout",
     "output_type": "stream",
     "text": [
      "model state saved with validation accuracy: 67.3913\n"
     ]
    },
    {
     "name": "stderr",
     "output_type": "stream",
     "text": [
      "Epoch 3/80: 100%|██████████| 161/161 [00:00<00:00, 166.21it/s]\n"
     ]
    },
    {
     "name": "stdout",
     "output_type": "stream",
     "text": [
      "model state saved with validation accuracy: 73.9130\n"
     ]
    },
    {
     "name": "stderr",
     "output_type": "stream",
     "text": [
      "Epoch 4/80: 100%|██████████| 161/161 [00:00<00:00, 171.32it/s]\n",
      "Epoch 5/80: 100%|██████████| 161/161 [00:00<00:00, 168.73it/s]\n"
     ]
    },
    {
     "name": "stdout",
     "output_type": "stream",
     "text": [
      "model state saved with validation accuracy: 77.5362\n"
     ]
    },
    {
     "name": "stderr",
     "output_type": "stream",
     "text": [
      "Epoch 6/80: 100%|██████████| 161/161 [00:00<00:00, 168.26it/s]\n",
      "Epoch 7/80: 100%|██████████| 161/161 [00:00<00:00, 172.53it/s]\n"
     ]
    },
    {
     "name": "stdout",
     "output_type": "stream",
     "text": [
      "model state saved with validation accuracy: 81.8841\n"
     ]
    },
    {
     "name": "stderr",
     "output_type": "stream",
     "text": [
      "Epoch 8/80: 100%|██████████| 161/161 [00:01<00:00, 151.78it/s]\n",
      "Epoch 9/80: 100%|██████████| 161/161 [00:00<00:00, 168.09it/s]\n"
     ]
    },
    {
     "name": "stdout",
     "output_type": "stream",
     "text": [
      "model state saved with validation accuracy: 83.3333\n"
     ]
    },
    {
     "name": "stderr",
     "output_type": "stream",
     "text": [
      "Epoch 10/80: 100%|██████████| 161/161 [00:00<00:00, 167.52it/s]\n",
      "Epoch 11/80: 100%|██████████| 161/161 [00:01<00:00, 159.22it/s]\n",
      "Epoch 12/80: 100%|██████████| 161/161 [00:00<00:00, 163.98it/s]\n"
     ]
    },
    {
     "name": "stdout",
     "output_type": "stream",
     "text": [
      "model state saved with validation accuracy: 86.2319\n"
     ]
    },
    {
     "name": "stderr",
     "output_type": "stream",
     "text": [
      "Epoch 13/80: 100%|██████████| 161/161 [00:00<00:00, 174.68it/s]\n"
     ]
    },
    {
     "name": "stdout",
     "output_type": "stream",
     "text": [
      "model state saved with validation accuracy: 87.6812\n"
     ]
    },
    {
     "name": "stderr",
     "output_type": "stream",
     "text": [
      "Epoch 14/80: 100%|██████████| 161/161 [00:01<00:00, 157.67it/s]\n",
      "Epoch 15/80: 100%|██████████| 161/161 [00:00<00:00, 164.14it/s]\n",
      "Epoch 16/80: 100%|██████████| 161/161 [00:01<00:00, 156.49it/s]\n",
      "Epoch 17/80: 100%|██████████| 161/161 [00:01<00:00, 155.15it/s]\n"
     ]
    },
    {
     "name": "stdout",
     "output_type": "stream",
     "text": [
      "model state saved with validation accuracy: 89.1304\n"
     ]
    },
    {
     "name": "stderr",
     "output_type": "stream",
     "text": [
      "Epoch 18/80: 100%|██████████| 161/161 [00:00<00:00, 170.16it/s]\n",
      "Epoch 19/80: 100%|██████████| 161/161 [00:00<00:00, 172.07it/s]\n",
      "Epoch 20/80: 100%|██████████| 161/161 [00:00<00:00, 165.35it/s]\n",
      "Epoch 21/80: 100%|██████████| 161/161 [00:00<00:00, 165.83it/s]\n",
      "Epoch 22/80: 100%|██████████| 161/161 [00:00<00:00, 171.10it/s]\n",
      "Epoch 23/80: 100%|██████████| 161/161 [00:00<00:00, 173.93it/s]\n",
      "Epoch 24/80: 100%|██████████| 161/161 [00:00<00:00, 173.17it/s]\n",
      "Epoch 25/80: 100%|██████████| 161/161 [00:00<00:00, 168.10it/s]\n"
     ]
    },
    {
     "name": "stdout",
     "output_type": "stream",
     "text": [
      "model state saved with validation accuracy: 89.8551\n"
     ]
    },
    {
     "name": "stderr",
     "output_type": "stream",
     "text": [
      "Epoch 26/80: 100%|██████████| 161/161 [00:00<00:00, 169.25it/s]\n",
      "Epoch 27/80: 100%|██████████| 161/161 [00:00<00:00, 167.24it/s]\n",
      "Epoch 28/80: 100%|██████████| 161/161 [00:00<00:00, 171.24it/s]\n"
     ]
    },
    {
     "name": "stdout",
     "output_type": "stream",
     "text": [
      "model state saved with validation accuracy: 90.5797\n"
     ]
    },
    {
     "name": "stderr",
     "output_type": "stream",
     "text": [
      "Epoch 29/80: 100%|██████████| 161/161 [00:00<00:00, 165.02it/s]\n"
     ]
    },
    {
     "name": "stdout",
     "output_type": "stream",
     "text": [
      "model state saved with validation accuracy: 92.0290\n"
     ]
    },
    {
     "name": "stderr",
     "output_type": "stream",
     "text": [
      "Epoch 30/80: 100%|██████████| 161/161 [00:00<00:00, 169.53it/s]\n",
      "Epoch 31/80: 100%|██████████| 161/161 [00:00<00:00, 161.66it/s]\n"
     ]
    },
    {
     "name": "stdout",
     "output_type": "stream",
     "text": [
      "model state saved with validation accuracy: 92.7536\n"
     ]
    },
    {
     "name": "stderr",
     "output_type": "stream",
     "text": [
      "Epoch 32/80: 100%|██████████| 161/161 [00:00<00:00, 167.46it/s]\n",
      "Epoch 33/80: 100%|██████████| 161/161 [00:00<00:00, 171.24it/s]\n",
      "Epoch 34/80: 100%|██████████| 161/161 [00:00<00:00, 172.06it/s]\n",
      "Epoch 35/80: 100%|██████████| 161/161 [00:00<00:00, 170.07it/s]\n",
      "Epoch 36/80: 100%|██████████| 161/161 [00:00<00:00, 164.21it/s]\n",
      "Epoch 37/80: 100%|██████████| 161/161 [00:01<00:00, 146.53it/s]\n",
      "Epoch 38/80: 100%|██████████| 161/161 [00:00<00:00, 162.27it/s]\n",
      "Epoch 39/80: 100%|██████████| 161/161 [00:00<00:00, 166.11it/s]\n"
     ]
    },
    {
     "name": "stdout",
     "output_type": "stream",
     "text": [
      "model state saved with validation accuracy: 93.4783\n"
     ]
    },
    {
     "name": "stderr",
     "output_type": "stream",
     "text": [
      "Epoch 40/80: 100%|██████████| 161/161 [00:01<00:00, 160.76it/s]\n",
      "Epoch 41/80: 100%|██████████| 161/161 [00:01<00:00, 155.42it/s]\n",
      "Epoch 42/80: 100%|██████████| 161/161 [00:00<00:00, 163.49it/s]\n",
      "Epoch 43/80: 100%|██████████| 161/161 [00:00<00:00, 163.24it/s]\n",
      "Epoch 44/80: 100%|██████████| 161/161 [00:01<00:00, 154.92it/s]\n",
      "Epoch 45/80: 100%|██████████| 161/161 [00:01<00:00, 157.27it/s]\n",
      "Epoch 46/80: 100%|██████████| 161/161 [00:00<00:00, 166.74it/s]\n",
      "Epoch 47/80: 100%|██████████| 161/161 [00:00<00:00, 164.58it/s]\n"
     ]
    },
    {
     "name": "stdout",
     "output_type": "stream",
     "text": [
      "model state saved with validation accuracy: 94.2029\n"
     ]
    },
    {
     "name": "stderr",
     "output_type": "stream",
     "text": [
      "Epoch 48/80: 100%|██████████| 161/161 [00:00<00:00, 163.42it/s]\n"
     ]
    },
    {
     "name": "stdout",
     "output_type": "stream",
     "text": [
      "model state saved with validation accuracy: 94.9275\n"
     ]
    },
    {
     "name": "stderr",
     "output_type": "stream",
     "text": [
      "Epoch 49/80: 100%|██████████| 161/161 [00:00<00:00, 171.06it/s]\n",
      "Epoch 50/80: 100%|██████████| 161/161 [00:00<00:00, 168.29it/s]\n",
      "Epoch 51/80: 100%|██████████| 161/161 [00:00<00:00, 165.09it/s]\n",
      "Epoch 52/80: 100%|██████████| 161/161 [00:00<00:00, 163.59it/s]\n",
      "Epoch 53/80: 100%|██████████| 161/161 [00:00<00:00, 164.49it/s]\n",
      "Epoch 54/80: 100%|██████████| 161/161 [00:00<00:00, 172.78it/s]\n",
      "Epoch 55/80: 100%|██████████| 161/161 [00:00<00:00, 174.12it/s]\n",
      "Epoch 56/80: 100%|██████████| 161/161 [00:01<00:00, 151.98it/s]\n",
      "Epoch 57/80: 100%|██████████| 161/161 [00:01<00:00, 154.47it/s]\n"
     ]
    },
    {
     "name": "stdout",
     "output_type": "stream",
     "text": [
      "model state saved with validation accuracy: 95.6522\n"
     ]
    },
    {
     "name": "stderr",
     "output_type": "stream",
     "text": [
      "Epoch 58/80: 100%|██████████| 161/161 [00:00<00:00, 164.93it/s]\n",
      "Epoch 59/80: 100%|██████████| 161/161 [00:00<00:00, 169.43it/s]\n"
     ]
    },
    {
     "name": "stdout",
     "output_type": "stream",
     "text": [
      "model state saved with validation accuracy: 96.3768\n"
     ]
    },
    {
     "name": "stderr",
     "output_type": "stream",
     "text": [
      "Epoch 60/80: 100%|██████████| 161/161 [00:00<00:00, 164.65it/s]\n",
      "Epoch 61/80: 100%|██████████| 161/161 [00:00<00:00, 165.83it/s]\n",
      "Epoch 62/80: 100%|██████████| 161/161 [00:00<00:00, 170.75it/s]\n",
      "Epoch 63/80: 100%|██████████| 161/161 [00:00<00:00, 167.42it/s]\n",
      "Epoch 64/80: 100%|██████████| 161/161 [00:00<00:00, 163.59it/s]\n",
      "Epoch 65/80: 100%|██████████| 161/161 [00:00<00:00, 162.26it/s]\n",
      "Epoch 66/80: 100%|██████████| 161/161 [00:01<00:00, 146.72it/s]\n",
      "Epoch 67/80: 100%|██████████| 161/161 [00:00<00:00, 176.40it/s]\n",
      "Epoch 68/80: 100%|██████████| 161/161 [00:00<00:00, 172.52it/s]\n",
      "Epoch 69/80: 100%|██████████| 161/161 [00:00<00:00, 167.24it/s]\n",
      "Epoch 70/80: 100%|██████████| 161/161 [00:01<00:00, 154.11it/s]\n"
     ]
    },
    {
     "name": "stdout",
     "output_type": "stream",
     "text": [
      "model state saved with validation accuracy: 97.1014\n"
     ]
    },
    {
     "name": "stderr",
     "output_type": "stream",
     "text": [
      "Epoch 71/80: 100%|██████████| 161/161 [00:00<00:00, 175.71it/s]\n",
      "Epoch 72/80: 100%|██████████| 161/161 [00:00<00:00, 173.61it/s]\n",
      "Epoch 73/80: 100%|██████████| 161/161 [00:01<00:00, 154.48it/s]\n",
      "Epoch 74/80: 100%|██████████| 161/161 [00:00<00:00, 166.26it/s]\n",
      "Epoch 75/80: 100%|██████████| 161/161 [00:00<00:00, 165.10it/s]\n",
      "Epoch 76/80: 100%|██████████| 161/161 [00:00<00:00, 164.18it/s]\n",
      "Epoch 77/80: 100%|██████████| 161/161 [00:00<00:00, 162.34it/s]\n",
      "Epoch 78/80: 100%|██████████| 161/161 [00:01<00:00, 160.03it/s]\n",
      "Epoch 79/80: 100%|██████████| 161/161 [00:00<00:00, 163.65it/s]\n",
      "Epoch 80/80: 100%|██████████| 161/161 [00:00<00:00, 169.39it/s]\n"
     ]
    }
   ],
   "source": [
    "results= model_trainer(model,train_loader,val_loader,training_arg)"
   ]
  },
  {
   "cell_type": "markdown",
   "metadata": {},
   "source": [
    "### 9. Inspect training process"
   ]
  },
  {
   "cell_type": "code",
   "execution_count": 55,
   "metadata": {},
   "outputs": [
    {
     "data": {
      "image/png": "[encoded data removed]",
      "text/plain": [
       "<Figure size 640x480 with 1 Axes>"
      ]
     },
     "metadata": {},
     "output_type": "display_data"
    },
    {
     "data": {
      "image/png": "[encoded data removed]",
      "text/plain": [
       "<Figure size 640x480 with 1 Axes>"
      ]
     },
     "metadata": {},
     "output_type": "display_data"
    }
   ],
   "source": [
    "plt.figure()\n",
    "plt.plot(results['epoch_loss'])\n",
    "plt.xlabel('epoch')\n",
    "plt.ylabel('Avg loss')\n",
    "plt.show()\n",
    "\n",
    "\n",
    "plt.figure()\n",
    "plt.plot(results['training_acc'],label='Training data')\n",
    "plt.plot(results['validation_acc'],label='Validation data')\n",
    "plt.legend()\n",
    "plt.xlabel('epoch')\n",
    "plt.ylabel('Accuracy')\n",
    "plt.show()"
   ]
  },
  {
   "cell_type": "markdown",
   "metadata": {},
   "source": [
    "### 10. Evaluate model"
   ]
  },
  {
   "cell_type": "code",
   "execution_count": 56,
   "metadata": {},
   "outputs": [
    {
     "name": "stdout",
     "output_type": "stream",
     "text": [
      "Fine tune model loaded\n",
      "Train Binary Accuracy: 100.0000\n",
      "Confusion Matrix:\n",
      "[[168   0]\n",
      " [  0 154]]\n",
      "Accuracy: 100.0\n",
      "Precision: 100.0\n",
      "Sensitivity (Recall): 100.0\n",
      "Specificity: 100.0\n",
      "F1 Score: 1.0\n",
      "AUC Score: 1.0\n",
      "\n",
      "\n",
      "Validation Binary Accuracy: 97.1014\n",
      "Confusion Matrix:\n",
      "[[69  3]\n",
      " [ 1 65]]\n",
      "Accuracy: 97.10144927536231\n",
      "Precision: 95.58823529411765\n",
      "Sensitivity (Recall): 98.48484848484848\n",
      "Specificity: 95.83333333333334\n",
      "F1 Score: 0.9701492537313432\n",
      "AUC Score: 0.9968434343434344\n",
      "\n",
      "\n",
      "Test Binary Accuracy: 98.9130\n",
      "Confusion Matrix:\n",
      "[[48  0]\n",
      " [ 1 43]]\n",
      "Accuracy: 98.91304347826086\n",
      "Precision: 100.0\n",
      "Sensitivity (Recall): 97.72727272727273\n",
      "Specificity: 100.0\n",
      "F1 Score: 0.9885057471264368\n",
      "AUC Score: 0.9976325757575758\n",
      "Completed\n"
     ]
    }
   ],
   "source": [
    "best_model_state=torch.load(cnn_modelfullpath, map_location=device)\n",
    "model.load_state_dict(best_model_state,strict=True)\n",
    "model.eval()\n",
    "print('Fine tune model loaded')\n",
    "\n",
    "tr_accuracy, tr_est,tr_labels,tr_scores= evaluate_binary_accuracy(model, train_loader)\n",
    "print(f'Train Binary Accuracy: {tr_accuracy:.4f}')\n",
    "perf_metrics(tr_labels, tr_est,tr_scores)\n",
    "print('\\n')\n",
    "v_accuracy,val_est,val_labels, val_scores = evaluate_binary_accuracy(model, val_loader)\n",
    "print(f'Validation Binary Accuracy: {v_accuracy:.4f}')\n",
    "perf_metrics(val_labels, val_est,val_scores)\n",
    "print('\\n')\n",
    "test_accuracy,test_est,test_labels, test_scores = evaluate_binary_accuracy(model, test_loader)\n",
    "print(f'Test Binary Accuracy: {test_accuracy:.4f}')\n",
    "perf_metrics(test_labels, test_est,test_scores)\n",
    "\n",
    "print('Completed')"
   ]
  }
 ],
 "metadata": {
  "kernelspec": {
   "display_name": "mybertV2",
   "language": "python",
   "name": "python3"
  },
  "language_info": {
   "codemirror_mode": {
    "name": "ipython",
    "version": 3
   },
   "file_extension": ".py",
   "mimetype": "text/x-python",
   "name": "python",
   "nbconvert_exporter": "python",
   "pygments_lexer": "ipython3",
   "version": "3.9.18"
  }
 },
 "nbformat": 4,
 "nbformat_minor": 2
}
