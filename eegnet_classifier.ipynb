{
 "cells": [
  {
   "cell_type": "markdown",
   "metadata": {},
   "source": [
    "## Binary classification with EEGNet\n",
    "\n",
    "The paths utilized are defiend in the `path_module.py`\n",
    "\n",
    "Before this, the data must be processed. \n",
    "- `data_processing` notebook loads raw data and prepares training,validation and test dataset\n",
    "\n",
    "### 1. Import libraries"
   ]
  },
  {
   "cell_type": "code",
   "execution_count": 1,
   "metadata": {},
   "outputs": [],
   "source": [
    "from modules.path_module import *\n",
    "from modules.utils_module import *\n",
    "import os\n",
    "import joblib\n",
    "import torch\n",
    "import numpy as np\n",
    "import matplotlib.pyplot as plt"
   ]
  },
  {
   "cell_type": "markdown",
   "metadata": {},
   "source": [
    "### 2. Load data"
   ]
  },
  {
   "cell_type": "code",
   "execution_count": 2,
   "metadata": {},
   "outputs": [],
   "source": [
    "train_data=joblib.load(os.path.join(processed_datapath,\"train_data.joblib\"))\n",
    "test_data=joblib.load(os.path.join(processed_datapath,\"test_data.joblib\"))\n",
    "val_data=joblib.load(os.path.join(processed_datapath,\"val_data.joblib\"))"
   ]
  },
  {
   "cell_type": "markdown",
   "metadata": {},
   "source": [
    "### 3. Prepare data\n",
    "- We train using the training set and save the model that gives the best performance on the validation set"
   ]
  },
  {
   "cell_type": "code",
   "execution_count": 3,
   "metadata": {},
   "outputs": [],
   "source": [
    "train_sigdata,train_label=prepare_cnn_data(train_data)\n",
    "val_sigdata,val_label=prepare_cnn_data(val_data)\n",
    "test_sigdata,test_label=prepare_cnn_data(test_data)"
   ]
  },
  {
   "cell_type": "markdown",
   "metadata": {},
   "source": [
    "### 4. EEGNet model"
   ]
  },
  {
   "cell_type": "markdown",
   "metadata": {},
   "source": [
    "Pytorch conversion from keras implementation https://github.com/vlawhern/arl-eegmodels/blob/master/EEGModels.py\n",
    "\n",
    "Main repo: https://github.com/vlawhern/arl-eegmodels\n"
   ]
  },
  {
   "cell_type": "code",
   "execution_count": 4,
   "metadata": {},
   "outputs": [],
   "source": [
    "import torch.nn as nn\n",
    "\n",
    "class EEGNet(nn.Module):\n",
    "    def __init__(self, nb_classes, Chans=59, Samples=2500, dropoutRate=0.5, kernLength=64, F1=8, D=2, F2=16, norm_rate=0.25, dropoutType='Dropout'):\n",
    "        super(EEGNet, self).__init__()\n",
    "\n",
    "        if dropoutType == 'SpatialDropout2D':\n",
    "            self.DropoutType = nn.Dropout2d\n",
    "        elif dropoutType == 'Dropout':\n",
    "            self.DropoutType = nn.Dropout\n",
    "        else:\n",
    "            raise ValueError('dropoutType must be one of SpatialDropout2D or Dropout, passed as a string.')\n",
    "\n",
    "        self.conv1 = nn.Conv2d(1, F1, (1, kernLength), padding='same', bias=False)\n",
    "        self.batchnorm1 = nn.BatchNorm2d(F1)\n",
    "        self.depthwise_conv = nn.Conv2d(F1, F1 * D, (Chans, 1), groups=F1, bias=False, padding='valid')\n",
    "        self.batchnorm2 = nn.BatchNorm2d(F1 * D)\n",
    "        self.elu1 = nn.ELU()\n",
    "        self.avgpool1 = nn.AvgPool2d((1, 4))\n",
    "        self.dropout1 = self.DropoutType(dropoutRate)\n",
    "        \n",
    "        self.separable_conv = nn.Sequential(\n",
    "            nn.Conv2d(F1 * D, F1 * D, (1, 16), groups=F1 * D, bias=False, padding='same'),\n",
    "            nn.Conv2d(F1 * D, F2, kernel_size=(1, 1), bias=False)\n",
    "        )\n",
    "        self.batchnorm3 = nn.BatchNorm2d(F2)\n",
    "        self.elu2 = nn.ELU()\n",
    "        self.avgpool2 = nn.AvgPool2d((1, 8))\n",
    "        self.dropout2 = self.DropoutType(dropoutRate)\n",
    "        \n",
    "        self.flatten = nn.Flatten()\n",
    "        self.dense = nn.Linear(F2 * (Samples // 32), nb_classes)\n",
    "        \n",
    "        \n",
    "    def forward(self, x):\n",
    "        x = x.unsqueeze(1)  # Add a channel dimension\n",
    "        x = self.conv1(x)\n",
    "        x = self.batchnorm1(x)\n",
    "        \n",
    "        x = self.depthwise_conv(x)\n",
    "        x = self.batchnorm2(x)\n",
    "        x = self.elu1(x)\n",
    "        x = self.avgpool1(x)\n",
    "        x = self.dropout1(x)\n",
    "        \n",
    "        x = self.separable_conv(x)\n",
    "        x = self.batchnorm3(x)\n",
    "        x = self.elu2(x)\n",
    "        x = self.avgpool2(x)\n",
    "        x = self.dropout2(x)\n",
    "        \n",
    "        x = self.flatten(x)\n",
    "        x = self.dense(x)\n",
    "        return x"
   ]
  },
  {
   "cell_type": "markdown",
   "metadata": {},
   "source": [
    "### 5. Initialize model"
   ]
  },
  {
   "cell_type": "code",
   "execution_count": 5,
   "metadata": {},
   "outputs": [
    {
     "name": "stdout",
     "output_type": "stream",
     "text": [
      "Running on: cpu\n",
      "Model created\n"
     ]
    }
   ],
   "source": [
    "import torch.optim as optim\n",
    "from torch import cuda\n",
    "\n",
    "# Set the random seed for reproducibility\n",
    "random_seed = 42\n",
    "random.seed(random_seed)\n",
    "torch.manual_seed(random_seed)\n",
    "torch.cuda.manual_seed(random_seed)\n",
    "np.random.seed(random_seed)\n",
    "\n",
    "# use GPU\n",
    "device='cpu'#'cuda' if cuda.is_available() else 'cpu'\n",
    "print(\"Running on: \"+device)\n",
    "cuda.empty_cache()\n",
    "\n",
    "Fs=500 #sampling rate\n",
    "# initialize model\n",
    "n_chan=train_data[0].data.shape[1]\n",
    "n_datalength=train_data[0].data.shape[0]\n",
    "# Example usage\n",
    "nb_classes = 2  # Number of classes\n",
    "Chans = n_chan  # Number of channels\n",
    "Samples = n_datalength  # Number of time points\n",
    "dropoutRate = 0.5 # from original\n",
    "#kernLength = Fs // 2 + 1\n",
    "kernLength = 32 # from original\n",
    "F1 = 8 # from original\n",
    "D = 2 # from original\n",
    "F2 = F1*D # from original\n",
    "norm_rate = 0.25 # from original\n",
    "dropoutType = 'Dropout' # from original\n",
    "\n",
    "model = EEGNet(nb_classes, Chans, Samples, dropoutRate, kernLength, F1, D, F2, norm_rate, dropoutType)\n",
    "\n",
    "model.to(device)\n",
    "print('Model created')"
   ]
  },
  {
   "cell_type": "markdown",
   "metadata": {},
   "source": [
    "### 6. Configure Training"
   ]
  },
  {
   "cell_type": "code",
   "execution_count": 6,
   "metadata": {},
   "outputs": [],
   "source": [
    "#batch_size = 8#1\n",
    "batch_size = 16 # from original\n",
    "#num_epochs = 64\n",
    "num_epochs = 300 # from original\n",
    "# lrate=5e-3\n",
    "lrate=0.001 # from original\n",
    "patience=800 # no effective early stopping\n",
    "#patience=80 \n",
    "# Define loss function and optimizer\n",
    "criterion = nn.BCELoss() # paper used categorial cross entropy for multi class\n",
    "optimizer = optim.Adam(model.parameters(), lr=lrate) #from original\n",
    "cnn_modelfullpath=os.path.join(cnn_modelpath,'eegnet.pt')\n",
    "random_seed=42\n",
    "\n",
    "training_arg={\n",
    "    'modelfullpath': cnn_modelfullpath,\n",
    "    'criterion': criterion,\n",
    "    'optimizer': optimizer,\n",
    "    'epochs': num_epochs,\n",
    "    'patience': patience,\n",
    "    'seed': random_seed\n",
    "}"
   ]
  },
  {
   "cell_type": "markdown",
   "metadata": {},
   "source": [
    "### 7. Prepare data"
   ]
  },
  {
   "cell_type": "code",
   "execution_count": 7,
   "metadata": {},
   "outputs": [],
   "source": [
    "from torch.utils.data import DataLoader, TensorDataset\n",
    "\n",
    "train_dataset = TensorDataset(torch.stack(train_sigdata), torch.stack(train_label))\n",
    "val_dataset = TensorDataset(torch.stack(val_sigdata), torch.stack(val_label))\n",
    "test_dataset = TensorDataset(torch.stack(test_sigdata), torch.stack(test_label))\n",
    "\n",
    "train_loader = DataLoader(train_dataset, batch_size=batch_size, shuffle=True)\n",
    "val_loader = DataLoader(val_dataset, batch_size=1, shuffle=False)\n",
    "test_loader = DataLoader(test_dataset, batch_size=1, shuffle=False)"
   ]
  },
  {
   "cell_type": "markdown",
   "metadata": {},
   "source": [
    "### 8. Train model"
   ]
  },
  {
   "cell_type": "code",
   "execution_count": 9,
   "metadata": {},
   "outputs": [
    {
     "name": "stderr",
     "output_type": "stream",
     "text": [
      "Epoch 1/300: 100%|██████████| 21/21 [00:03<00:00,  5.66it/s]\n"
     ]
    },
    {
     "name": "stdout",
     "output_type": "stream",
     "text": [
      "model state saved with validation accuracy: 51.4493\n"
     ]
    },
    {
     "name": "stderr",
     "output_type": "stream",
     "text": [
      "Epoch 2/300: 100%|██████████| 21/21 [00:03<00:00,  6.42it/s]\n",
      "Epoch 3/300: 100%|██████████| 21/21 [00:03<00:00,  6.63it/s]\n",
      "Epoch 4/300: 100%|██████████| 21/21 [00:03<00:00,  6.50it/s]\n",
      "Epoch 5/300: 100%|██████████| 21/21 [00:03<00:00,  6.38it/s]\n"
     ]
    },
    {
     "name": "stdout",
     "output_type": "stream",
     "text": [
      "model state saved with validation accuracy: 52.1739\n"
     ]
    },
    {
     "name": "stderr",
     "output_type": "stream",
     "text": [
      "Epoch 6/300: 100%|██████████| 21/21 [00:03<00:00,  6.33it/s]\n"
     ]
    },
    {
     "name": "stdout",
     "output_type": "stream",
     "text": [
      "model state saved with validation accuracy: 57.2464\n"
     ]
    },
    {
     "name": "stderr",
     "output_type": "stream",
     "text": [
      "Epoch 7/300: 100%|██████████| 21/21 [00:03<00:00,  6.49it/s]\n"
     ]
    },
    {
     "name": "stdout",
     "output_type": "stream",
     "text": [
      "model state saved with validation accuracy: 60.1449\n"
     ]
    },
    {
     "name": "stderr",
     "output_type": "stream",
     "text": [
      "Epoch 8/300: 100%|██████████| 21/21 [00:03<00:00,  6.29it/s]\n",
      "Epoch 9/300: 100%|██████████| 21/21 [00:04<00:00,  5.18it/s]\n"
     ]
    },
    {
     "name": "stdout",
     "output_type": "stream",
     "text": [
      "model state saved with validation accuracy: 64.4928\n"
     ]
    },
    {
     "name": "stderr",
     "output_type": "stream",
     "text": [
      "Epoch 10/300: 100%|██████████| 21/21 [00:03<00:00,  6.15it/s]\n"
     ]
    },
    {
     "name": "stdout",
     "output_type": "stream",
     "text": [
      "model state saved with validation accuracy: 68.1159\n"
     ]
    },
    {
     "name": "stderr",
     "output_type": "stream",
     "text": [
      "Epoch 11/300: 100%|██████████| 21/21 [00:03<00:00,  6.28it/s]\n"
     ]
    },
    {
     "name": "stdout",
     "output_type": "stream",
     "text": [
      "model state saved with validation accuracy: 71.7391\n"
     ]
    },
    {
     "name": "stderr",
     "output_type": "stream",
     "text": [
      "Epoch 12/300: 100%|██████████| 21/21 [00:03<00:00,  6.26it/s]\n",
      "Epoch 13/300: 100%|██████████| 21/21 [00:03<00:00,  6.38it/s]\n",
      "Epoch 14/300: 100%|██████████| 21/21 [00:03<00:00,  6.46it/s]\n",
      "Epoch 15/300: 100%|██████████| 21/21 [00:03<00:00,  6.59it/s]\n"
     ]
    },
    {
     "name": "stdout",
     "output_type": "stream",
     "text": [
      "model state saved with validation accuracy: 72.4638\n"
     ]
    },
    {
     "name": "stderr",
     "output_type": "stream",
     "text": [
      "Epoch 16/300: 100%|██████████| 21/21 [00:03<00:00,  6.39it/s]\n",
      "Epoch 17/300: 100%|██████████| 21/21 [00:03<00:00,  6.37it/s]\n",
      "Epoch 18/300: 100%|██████████| 21/21 [00:03<00:00,  6.68it/s]\n",
      "Epoch 19/300: 100%|██████████| 21/21 [00:03<00:00,  6.24it/s]\n"
     ]
    },
    {
     "name": "stdout",
     "output_type": "stream",
     "text": [
      "model state saved with validation accuracy: 77.5362\n"
     ]
    },
    {
     "name": "stderr",
     "output_type": "stream",
     "text": [
      "Epoch 20/300: 100%|██████████| 21/21 [00:03<00:00,  6.11it/s]\n",
      "Epoch 21/300: 100%|██████████| 21/21 [00:03<00:00,  6.30it/s]\n",
      "Epoch 22/300: 100%|██████████| 21/21 [00:03<00:00,  6.52it/s]\n",
      "Epoch 23/300: 100%|██████████| 21/21 [00:03<00:00,  6.67it/s]\n",
      "Epoch 24/300: 100%|██████████| 21/21 [00:03<00:00,  6.68it/s]\n"
     ]
    },
    {
     "name": "stdout",
     "output_type": "stream",
     "text": [
      "model state saved with validation accuracy: 78.9855\n"
     ]
    },
    {
     "name": "stderr",
     "output_type": "stream",
     "text": [
      "Epoch 25/300: 100%|██████████| 21/21 [00:03<00:00,  6.40it/s]\n",
      "Epoch 26/300: 100%|██████████| 21/21 [00:03<00:00,  6.28it/s]\n",
      "Epoch 27/300: 100%|██████████| 21/21 [00:03<00:00,  6.60it/s]\n",
      "Epoch 28/300: 100%|██████████| 21/21 [00:03<00:00,  6.32it/s]\n"
     ]
    },
    {
     "name": "stdout",
     "output_type": "stream",
     "text": [
      "model state saved with validation accuracy: 80.4348\n"
     ]
    },
    {
     "name": "stderr",
     "output_type": "stream",
     "text": [
      "Epoch 29/300: 100%|██████████| 21/21 [00:03<00:00,  6.35it/s]\n",
      "Epoch 30/300: 100%|██████████| 21/21 [00:03<00:00,  6.37it/s]\n",
      "Epoch 31/300: 100%|██████████| 21/21 [00:03<00:00,  6.34it/s]\n",
      "Epoch 32/300: 100%|██████████| 21/21 [00:03<00:00,  6.63it/s]\n",
      "Epoch 33/300: 100%|██████████| 21/21 [00:03<00:00,  6.66it/s]\n",
      "Epoch 34/300: 100%|██████████| 21/21 [00:03<00:00,  6.25it/s]\n",
      "Epoch 35/300: 100%|██████████| 21/21 [00:03<00:00,  6.50it/s]\n",
      "Epoch 36/300: 100%|██████████| 21/21 [00:03<00:00,  6.52it/s]\n",
      "Epoch 37/300: 100%|██████████| 21/21 [00:03<00:00,  6.32it/s]\n",
      "Epoch 38/300: 100%|██████████| 21/21 [00:03<00:00,  6.61it/s]\n",
      "Epoch 39/300: 100%|██████████| 21/21 [00:03<00:00,  6.64it/s]\n",
      "Epoch 40/300: 100%|██████████| 21/21 [00:03<00:00,  6.59it/s]\n",
      "Epoch 41/300: 100%|██████████| 21/21 [00:03<00:00,  6.62it/s]\n",
      "Epoch 42/300: 100%|██████████| 21/21 [00:03<00:00,  6.60it/s]\n",
      "Epoch 43/300: 100%|██████████| 21/21 [00:03<00:00,  6.28it/s]\n",
      "Epoch 44/300: 100%|██████████| 21/21 [00:03<00:00,  6.48it/s]\n"
     ]
    },
    {
     "name": "stdout",
     "output_type": "stream",
     "text": [
      "model state saved with validation accuracy: 83.3333\n"
     ]
    },
    {
     "name": "stderr",
     "output_type": "stream",
     "text": [
      "Epoch 45/300: 100%|██████████| 21/21 [00:03<00:00,  6.35it/s]\n",
      "Epoch 46/300: 100%|██████████| 21/21 [00:03<00:00,  6.00it/s]\n",
      "Epoch 47/300: 100%|██████████| 21/21 [00:03<00:00,  6.54it/s]\n",
      "Epoch 48/300: 100%|██████████| 21/21 [00:03<00:00,  6.66it/s]\n",
      "Epoch 49/300: 100%|██████████| 21/21 [00:03<00:00,  6.55it/s]\n",
      "Epoch 50/300: 100%|██████████| 21/21 [00:03<00:00,  5.87it/s]\n",
      "Epoch 51/300: 100%|██████████| 21/21 [00:03<00:00,  6.42it/s]\n",
      "Epoch 52/300: 100%|██████████| 21/21 [00:03<00:00,  6.45it/s]\n",
      "Epoch 53/300: 100%|██████████| 21/21 [00:03<00:00,  6.68it/s]\n",
      "Epoch 54/300: 100%|██████████| 21/21 [00:03<00:00,  6.54it/s]\n",
      "Epoch 55/300: 100%|██████████| 21/21 [00:03<00:00,  5.79it/s]\n",
      "Epoch 56/300: 100%|██████████| 21/21 [00:03<00:00,  6.67it/s]\n",
      "Epoch 57/300: 100%|██████████| 21/21 [00:03<00:00,  6.63it/s]\n",
      "Epoch 58/300: 100%|██████████| 21/21 [00:03<00:00,  6.69it/s]\n",
      "Epoch 59/300: 100%|██████████| 21/21 [00:03<00:00,  6.56it/s]\n",
      "Epoch 60/300: 100%|██████████| 21/21 [00:03<00:00,  6.57it/s]\n",
      "Epoch 61/300: 100%|██████████| 21/21 [00:03<00:00,  6.55it/s]\n",
      "Epoch 62/300: 100%|██████████| 21/21 [00:03<00:00,  6.71it/s]\n",
      "Epoch 63/300: 100%|██████████| 21/21 [00:03<00:00,  6.68it/s]\n",
      "Epoch 64/300: 100%|██████████| 21/21 [00:03<00:00,  6.32it/s]\n"
     ]
    },
    {
     "name": "stdout",
     "output_type": "stream",
     "text": [
      "model state saved with validation accuracy: 84.0580\n"
     ]
    },
    {
     "name": "stderr",
     "output_type": "stream",
     "text": [
      "Epoch 65/300: 100%|██████████| 21/21 [00:03<00:00,  6.54it/s]\n",
      "Epoch 66/300: 100%|██████████| 21/21 [00:03<00:00,  6.44it/s]\n",
      "Epoch 67/300: 100%|██████████| 21/21 [00:03<00:00,  6.25it/s]\n",
      "Epoch 68/300: 100%|██████████| 21/21 [00:03<00:00,  6.68it/s]\n",
      "Epoch 69/300: 100%|██████████| 21/21 [00:03<00:00,  6.72it/s]\n",
      "Epoch 70/300: 100%|██████████| 21/21 [00:03<00:00,  6.73it/s]\n",
      "Epoch 71/300: 100%|██████████| 21/21 [00:03<00:00,  6.39it/s]\n",
      "Epoch 72/300: 100%|██████████| 21/21 [00:03<00:00,  6.58it/s]\n",
      "Epoch 73/300: 100%|██████████| 21/21 [00:03<00:00,  6.29it/s]\n",
      "Epoch 74/300: 100%|██████████| 21/21 [00:03<00:00,  6.70it/s]\n",
      "Epoch 75/300: 100%|██████████| 21/21 [00:03<00:00,  6.41it/s]\n",
      "Epoch 76/300: 100%|██████████| 21/21 [00:03<00:00,  6.61it/s]\n",
      "Epoch 77/300: 100%|██████████| 21/21 [00:03<00:00,  6.66it/s]\n",
      "Epoch 78/300: 100%|██████████| 21/21 [00:03<00:00,  6.58it/s]\n",
      "Epoch 79/300: 100%|██████████| 21/21 [00:03<00:00,  6.28it/s]\n",
      "Epoch 80/300: 100%|██████████| 21/21 [00:03<00:00,  6.64it/s]\n",
      "Epoch 81/300: 100%|██████████| 21/21 [00:03<00:00,  6.42it/s]\n",
      "Epoch 82/300: 100%|██████████| 21/21 [00:03<00:00,  6.80it/s]\n",
      "Epoch 83/300: 100%|██████████| 21/21 [00:03<00:00,  6.37it/s]\n"
     ]
    },
    {
     "name": "stdout",
     "output_type": "stream",
     "text": [
      "model state saved with validation accuracy: 85.5072\n"
     ]
    },
    {
     "name": "stderr",
     "output_type": "stream",
     "text": [
      "Epoch 84/300: 100%|██████████| 21/21 [00:03<00:00,  6.67it/s]\n",
      "Epoch 85/300: 100%|██████████| 21/21 [00:03<00:00,  6.52it/s]\n",
      "Epoch 86/300: 100%|██████████| 21/21 [00:03<00:00,  6.58it/s]\n"
     ]
    },
    {
     "name": "stdout",
     "output_type": "stream",
     "text": [
      "model state saved with validation accuracy: 86.2319\n"
     ]
    },
    {
     "name": "stderr",
     "output_type": "stream",
     "text": [
      "Epoch 87/300: 100%|██████████| 21/21 [00:03<00:00,  6.58it/s]\n",
      "Epoch 88/300: 100%|██████████| 21/21 [00:03<00:00,  6.71it/s]\n",
      "Epoch 89/300: 100%|██████████| 21/21 [00:03<00:00,  6.68it/s]\n"
     ]
    },
    {
     "name": "stdout",
     "output_type": "stream",
     "text": [
      "model state saved with validation accuracy: 86.9565\n"
     ]
    },
    {
     "name": "stderr",
     "output_type": "stream",
     "text": [
      "Epoch 90/300: 100%|██████████| 21/21 [00:03<00:00,  6.58it/s]\n",
      "Epoch 91/300: 100%|██████████| 21/21 [00:03<00:00,  6.53it/s]\n",
      "Epoch 92/300: 100%|██████████| 21/21 [00:03<00:00,  6.37it/s]\n",
      "Epoch 93/300: 100%|██████████| 21/21 [00:03<00:00,  6.73it/s]\n",
      "Epoch 94/300: 100%|██████████| 21/21 [00:03<00:00,  6.63it/s]\n",
      "Epoch 95/300: 100%|██████████| 21/21 [00:03<00:00,  6.71it/s]\n",
      "Epoch 96/300: 100%|██████████| 21/21 [00:03<00:00,  6.61it/s]\n",
      "Epoch 97/300: 100%|██████████| 21/21 [00:03<00:00,  6.65it/s]\n",
      "Epoch 98/300: 100%|██████████| 21/21 [00:03<00:00,  6.65it/s]\n",
      "Epoch 99/300: 100%|██████████| 21/21 [00:03<00:00,  6.65it/s]\n",
      "Epoch 100/300: 100%|██████████| 21/21 [00:03<00:00,  6.71it/s]\n",
      "Epoch 101/300: 100%|██████████| 21/21 [00:03<00:00,  6.49it/s]\n",
      "Epoch 102/300: 100%|██████████| 21/21 [00:03<00:00,  6.65it/s]\n",
      "Epoch 103/300: 100%|██████████| 21/21 [00:03<00:00,  6.51it/s]\n",
      "Epoch 104/300: 100%|██████████| 21/21 [00:03<00:00,  6.59it/s]\n",
      "Epoch 105/300: 100%|██████████| 21/21 [00:03<00:00,  6.66it/s]\n"
     ]
    },
    {
     "name": "stdout",
     "output_type": "stream",
     "text": [
      "model state saved with validation accuracy: 87.6812\n"
     ]
    },
    {
     "name": "stderr",
     "output_type": "stream",
     "text": [
      "Epoch 106/300: 100%|██████████| 21/21 [00:03<00:00,  6.68it/s]\n",
      "Epoch 107/300: 100%|██████████| 21/21 [00:03<00:00,  6.77it/s]\n",
      "Epoch 108/300: 100%|██████████| 21/21 [00:03<00:00,  6.75it/s]\n",
      "Epoch 109/300: 100%|██████████| 21/21 [00:03<00:00,  6.60it/s]\n",
      "Epoch 110/300: 100%|██████████| 21/21 [00:03<00:00,  6.56it/s]\n",
      "Epoch 111/300: 100%|██████████| 21/21 [00:03<00:00,  6.49it/s]\n",
      "Epoch 112/300: 100%|██████████| 21/21 [00:03<00:00,  6.49it/s]\n",
      "Epoch 113/300: 100%|██████████| 21/21 [00:03<00:00,  6.61it/s]\n",
      "Epoch 114/300: 100%|██████████| 21/21 [00:03<00:00,  6.68it/s]\n",
      "Epoch 115/300: 100%|██████████| 21/21 [00:03<00:00,  6.46it/s]\n",
      "Epoch 116/300: 100%|██████████| 21/21 [00:03<00:00,  6.71it/s]\n"
     ]
    },
    {
     "name": "stdout",
     "output_type": "stream",
     "text": [
      "model state saved with validation accuracy: 88.4058\n"
     ]
    },
    {
     "name": "stderr",
     "output_type": "stream",
     "text": [
      "Epoch 117/300: 100%|██████████| 21/21 [00:03<00:00,  6.64it/s]\n",
      "Epoch 118/300: 100%|██████████| 21/21 [00:03<00:00,  6.65it/s]\n",
      "Epoch 119/300: 100%|██████████| 21/21 [00:03<00:00,  6.57it/s]\n",
      "Epoch 120/300: 100%|██████████| 21/21 [00:03<00:00,  6.53it/s]\n",
      "Epoch 121/300: 100%|██████████| 21/21 [00:03<00:00,  6.38it/s]\n",
      "Epoch 122/300: 100%|██████████| 21/21 [00:03<00:00,  6.56it/s]\n",
      "Epoch 123/300: 100%|██████████| 21/21 [00:03<00:00,  6.58it/s]\n",
      "Epoch 124/300: 100%|██████████| 21/21 [00:03<00:00,  6.65it/s]\n",
      "Epoch 125/300: 100%|██████████| 21/21 [00:03<00:00,  6.60it/s]\n",
      "Epoch 126/300: 100%|██████████| 21/21 [00:03<00:00,  6.67it/s]\n",
      "Epoch 127/300: 100%|██████████| 21/21 [00:03<00:00,  6.51it/s]\n",
      "Epoch 128/300: 100%|██████████| 21/21 [00:03<00:00,  6.60it/s]\n",
      "Epoch 129/300: 100%|██████████| 21/21 [00:03<00:00,  6.54it/s]\n",
      "Epoch 130/300: 100%|██████████| 21/21 [00:03<00:00,  6.47it/s]\n",
      "Epoch 131/300: 100%|██████████| 21/21 [00:03<00:00,  6.56it/s]\n",
      "Epoch 132/300: 100%|██████████| 21/21 [00:03<00:00,  6.42it/s]\n",
      "Epoch 133/300: 100%|██████████| 21/21 [00:03<00:00,  6.66it/s]\n",
      "Epoch 134/300: 100%|██████████| 21/21 [00:03<00:00,  6.58it/s]\n",
      "Epoch 135/300: 100%|██████████| 21/21 [00:03<00:00,  6.64it/s]\n",
      "Epoch 136/300: 100%|██████████| 21/21 [00:03<00:00,  6.50it/s]\n",
      "Epoch 137/300: 100%|██████████| 21/21 [00:03<00:00,  6.68it/s]\n",
      "Epoch 138/300: 100%|██████████| 21/21 [00:03<00:00,  6.36it/s]\n",
      "Epoch 139/300: 100%|██████████| 21/21 [00:03<00:00,  6.38it/s]\n",
      "Epoch 140/300: 100%|██████████| 21/21 [00:03<00:00,  6.69it/s]\n",
      "Epoch 141/300: 100%|██████████| 21/21 [00:03<00:00,  6.54it/s]\n",
      "Epoch 142/300: 100%|██████████| 21/21 [00:03<00:00,  6.67it/s]\n",
      "Epoch 143/300: 100%|██████████| 21/21 [00:03<00:00,  6.62it/s]\n",
      "Epoch 144/300: 100%|██████████| 21/21 [00:03<00:00,  6.69it/s]\n",
      "Epoch 145/300: 100%|██████████| 21/21 [00:03<00:00,  6.64it/s]\n",
      "Epoch 146/300: 100%|██████████| 21/21 [00:03<00:00,  6.58it/s]\n",
      "Epoch 147/300: 100%|██████████| 21/21 [00:03<00:00,  6.39it/s]\n",
      "Epoch 148/300: 100%|██████████| 21/21 [00:03<00:00,  6.60it/s]\n",
      "Epoch 149/300: 100%|██████████| 21/21 [00:03<00:00,  6.65it/s]\n",
      "Epoch 150/300: 100%|██████████| 21/21 [00:03<00:00,  6.64it/s]\n",
      "Epoch 151/300: 100%|██████████| 21/21 [00:03<00:00,  6.51it/s]\n",
      "Epoch 152/300: 100%|██████████| 21/21 [00:03<00:00,  6.67it/s]\n",
      "Epoch 153/300: 100%|██████████| 21/21 [00:03<00:00,  6.74it/s]\n",
      "Epoch 154/300: 100%|██████████| 21/21 [00:03<00:00,  6.70it/s]\n",
      "Epoch 155/300: 100%|██████████| 21/21 [00:03<00:00,  6.73it/s]\n",
      "Epoch 156/300: 100%|██████████| 21/21 [00:03<00:00,  6.40it/s]\n",
      "Epoch 157/300: 100%|██████████| 21/21 [00:03<00:00,  6.51it/s]\n",
      "Epoch 158/300: 100%|██████████| 21/21 [00:03<00:00,  6.49it/s]\n",
      "Epoch 159/300: 100%|██████████| 21/21 [00:03<00:00,  6.70it/s]\n",
      "Epoch 160/300: 100%|██████████| 21/21 [00:03<00:00,  6.68it/s]\n"
     ]
    },
    {
     "name": "stdout",
     "output_type": "stream",
     "text": [
      "model state saved with validation accuracy: 89.1304\n"
     ]
    },
    {
     "name": "stderr",
     "output_type": "stream",
     "text": [
      "Epoch 161/300: 100%|██████████| 21/21 [00:03<00:00,  6.49it/s]\n",
      "Epoch 162/300: 100%|██████████| 21/21 [00:03<00:00,  6.79it/s]\n",
      "Epoch 163/300: 100%|██████████| 21/21 [00:03<00:00,  6.54it/s]\n",
      "Epoch 164/300: 100%|██████████| 21/21 [00:03<00:00,  6.74it/s]\n",
      "Epoch 165/300: 100%|██████████| 21/21 [00:03<00:00,  6.68it/s]\n",
      "Epoch 166/300: 100%|██████████| 21/21 [00:03<00:00,  6.42it/s]\n",
      "Epoch 167/300: 100%|██████████| 21/21 [00:03<00:00,  6.50it/s]\n",
      "Epoch 168/300: 100%|██████████| 21/21 [00:03<00:00,  6.62it/s]\n",
      "Epoch 169/300: 100%|██████████| 21/21 [00:03<00:00,  6.66it/s]\n",
      "Epoch 170/300: 100%|██████████| 21/21 [00:03<00:00,  6.56it/s]\n",
      "Epoch 171/300: 100%|██████████| 21/21 [00:03<00:00,  6.59it/s]\n",
      "Epoch 172/300: 100%|██████████| 21/21 [00:03<00:00,  6.69it/s]\n",
      "Epoch 173/300: 100%|██████████| 21/21 [00:03<00:00,  6.58it/s]\n",
      "Epoch 174/300: 100%|██████████| 21/21 [00:03<00:00,  6.58it/s]\n",
      "Epoch 175/300: 100%|██████████| 21/21 [00:03<00:00,  6.30it/s]\n"
     ]
    },
    {
     "name": "stdout",
     "output_type": "stream",
     "text": [
      "model state saved with validation accuracy: 91.3043\n"
     ]
    },
    {
     "name": "stderr",
     "output_type": "stream",
     "text": [
      "Epoch 176/300: 100%|██████████| 21/21 [00:03<00:00,  6.51it/s]\n",
      "Epoch 177/300: 100%|██████████| 21/21 [00:03<00:00,  6.73it/s]\n",
      "Epoch 178/300: 100%|██████████| 21/21 [00:03<00:00,  6.71it/s]\n",
      "Epoch 179/300: 100%|██████████| 21/21 [00:03<00:00,  6.77it/s]\n",
      "Epoch 180/300: 100%|██████████| 21/21 [00:03<00:00,  6.71it/s]\n",
      "Epoch 181/300: 100%|██████████| 21/21 [00:03<00:00,  6.59it/s]\n",
      "Epoch 182/300: 100%|██████████| 21/21 [00:03<00:00,  6.65it/s]\n",
      "Epoch 183/300: 100%|██████████| 21/21 [00:03<00:00,  6.55it/s]\n",
      "Epoch 184/300: 100%|██████████| 21/21 [00:03<00:00,  6.61it/s]\n",
      "Epoch 185/300: 100%|██████████| 21/21 [00:03<00:00,  6.41it/s]\n",
      "Epoch 186/300: 100%|██████████| 21/21 [00:03<00:00,  6.49it/s]\n",
      "Epoch 187/300: 100%|██████████| 21/21 [00:03<00:00,  6.48it/s]\n",
      "Epoch 188/300: 100%|██████████| 21/21 [00:03<00:00,  6.68it/s]\n",
      "Epoch 189/300: 100%|██████████| 21/21 [00:03<00:00,  6.75it/s]\n",
      "Epoch 190/300: 100%|██████████| 21/21 [00:03<00:00,  6.72it/s]\n",
      "Epoch 191/300: 100%|██████████| 21/21 [00:03<00:00,  6.65it/s]\n",
      "Epoch 192/300: 100%|██████████| 21/21 [00:03<00:00,  6.80it/s]\n",
      "Epoch 193/300: 100%|██████████| 21/21 [00:03<00:00,  6.46it/s]\n",
      "Epoch 194/300: 100%|██████████| 21/21 [00:03<00:00,  6.54it/s]\n",
      "Epoch 195/300: 100%|██████████| 21/21 [00:03<00:00,  6.58it/s]\n",
      "Epoch 196/300: 100%|██████████| 21/21 [00:03<00:00,  6.73it/s]\n",
      "Epoch 197/300: 100%|██████████| 21/21 [00:03<00:00,  6.66it/s]\n",
      "Epoch 198/300: 100%|██████████| 21/21 [00:03<00:00,  6.67it/s]\n",
      "Epoch 199/300: 100%|██████████| 21/21 [00:03<00:00,  6.47it/s]\n",
      "Epoch 200/300: 100%|██████████| 21/21 [00:03<00:00,  6.71it/s]\n",
      "Epoch 201/300: 100%|██████████| 21/21 [00:03<00:00,  6.70it/s]\n",
      "Epoch 202/300: 100%|██████████| 21/21 [00:03<00:00,  6.43it/s]\n",
      "Epoch 203/300: 100%|██████████| 21/21 [00:03<00:00,  6.41it/s]\n",
      "Epoch 204/300: 100%|██████████| 21/21 [00:03<00:00,  6.51it/s]\n",
      "Epoch 205/300: 100%|██████████| 21/21 [00:03<00:00,  6.81it/s]\n",
      "Epoch 206/300: 100%|██████████| 21/21 [00:03<00:00,  6.62it/s]\n",
      "Epoch 207/300: 100%|██████████| 21/21 [00:03<00:00,  6.80it/s]\n",
      "Epoch 208/300: 100%|██████████| 21/21 [00:03<00:00,  6.73it/s]\n",
      "Epoch 209/300: 100%|██████████| 21/21 [00:03<00:00,  6.56it/s]\n",
      "Epoch 210/300: 100%|██████████| 21/21 [00:03<00:00,  6.74it/s]\n",
      "Epoch 211/300: 100%|██████████| 21/21 [00:03<00:00,  6.19it/s]\n",
      "Epoch 212/300: 100%|██████████| 21/21 [00:03<00:00,  6.68it/s]\n",
      "Epoch 213/300: 100%|██████████| 21/21 [00:03<00:00,  6.65it/s]\n",
      "Epoch 214/300: 100%|██████████| 21/21 [00:03<00:00,  6.74it/s]\n",
      "Epoch 215/300: 100%|██████████| 21/21 [00:03<00:00,  6.67it/s]\n",
      "Epoch 216/300: 100%|██████████| 21/21 [00:03<00:00,  6.63it/s]\n",
      "Epoch 217/300: 100%|██████████| 21/21 [00:03<00:00,  6.67it/s]\n",
      "Epoch 218/300: 100%|██████████| 21/21 [00:03<00:00,  6.64it/s]\n",
      "Epoch 219/300: 100%|██████████| 21/21 [00:03<00:00,  6.72it/s]\n",
      "Epoch 220/300: 100%|██████████| 21/21 [00:03<00:00,  6.33it/s]\n",
      "Epoch 221/300: 100%|██████████| 21/21 [00:03<00:00,  6.61it/s]\n",
      "Epoch 222/300: 100%|██████████| 21/21 [00:03<00:00,  6.56it/s]\n",
      "Epoch 223/300: 100%|██████████| 21/21 [00:03<00:00,  6.40it/s]\n",
      "Epoch 224/300: 100%|██████████| 21/21 [00:03<00:00,  6.75it/s]\n",
      "Epoch 225/300: 100%|██████████| 21/21 [00:03<00:00,  6.67it/s]\n",
      "Epoch 226/300: 100%|██████████| 21/21 [00:03<00:00,  6.66it/s]\n",
      "Epoch 227/300: 100%|██████████| 21/21 [00:03<00:00,  6.61it/s]\n",
      "Epoch 228/300: 100%|██████████| 21/21 [00:03<00:00,  6.64it/s]\n",
      "Epoch 229/300: 100%|██████████| 21/21 [00:03<00:00,  6.64it/s]\n",
      "Epoch 230/300: 100%|██████████| 21/21 [00:03<00:00,  6.40it/s]\n",
      "Epoch 231/300: 100%|██████████| 21/21 [00:03<00:00,  6.40it/s]\n",
      "Epoch 232/300: 100%|██████████| 21/21 [00:03<00:00,  6.62it/s]\n",
      "Epoch 233/300: 100%|██████████| 21/21 [00:03<00:00,  6.61it/s]\n",
      "Epoch 234/300: 100%|██████████| 21/21 [00:03<00:00,  6.69it/s]\n",
      "Epoch 235/300: 100%|██████████| 21/21 [00:03<00:00,  6.44it/s]\n",
      "Epoch 236/300: 100%|██████████| 21/21 [00:03<00:00,  6.77it/s]\n",
      "Epoch 237/300: 100%|██████████| 21/21 [00:03<00:00,  6.78it/s]\n",
      "Epoch 238/300: 100%|██████████| 21/21 [00:03<00:00,  6.72it/s]\n",
      "Epoch 239/300: 100%|██████████| 21/21 [00:03<00:00,  6.58it/s]\n",
      "Epoch 240/300: 100%|██████████| 21/21 [00:03<00:00,  6.44it/s]\n",
      "Epoch 241/300: 100%|██████████| 21/21 [00:03<00:00,  6.51it/s]\n",
      "Epoch 242/300: 100%|██████████| 21/21 [00:03<00:00,  6.59it/s]\n",
      "Epoch 243/300: 100%|██████████| 21/21 [00:03<00:00,  6.74it/s]\n",
      "Epoch 244/300: 100%|██████████| 21/21 [00:03<00:00,  6.58it/s]\n",
      "Epoch 245/300: 100%|██████████| 21/21 [00:03<00:00,  6.68it/s]\n",
      "Epoch 246/300: 100%|██████████| 21/21 [00:03<00:00,  6.52it/s]\n",
      "Epoch 247/300: 100%|██████████| 21/21 [00:03<00:00,  6.57it/s]\n",
      "Epoch 248/300: 100%|██████████| 21/21 [00:03<00:00,  6.38it/s]\n",
      "Epoch 249/300: 100%|██████████| 21/21 [00:03<00:00,  6.66it/s]\n",
      "Epoch 250/300: 100%|██████████| 21/21 [00:03<00:00,  6.66it/s]\n",
      "Epoch 251/300: 100%|██████████| 21/21 [00:03<00:00,  6.69it/s]\n",
      "Epoch 252/300: 100%|██████████| 21/21 [00:03<00:00,  6.66it/s]\n",
      "Epoch 253/300: 100%|██████████| 21/21 [00:03<00:00,  6.72it/s]\n",
      "Epoch 254/300: 100%|██████████| 21/21 [00:03<00:00,  6.65it/s]\n",
      "Epoch 255/300: 100%|██████████| 21/21 [00:03<00:00,  6.71it/s]\n",
      "Epoch 256/300: 100%|██████████| 21/21 [00:03<00:00,  6.70it/s]\n",
      "Epoch 257/300: 100%|██████████| 21/21 [00:03<00:00,  6.34it/s]\n",
      "Epoch 258/300: 100%|██████████| 21/21 [00:03<00:00,  6.51it/s]\n",
      "Epoch 259/300: 100%|██████████| 21/21 [00:03<00:00,  6.41it/s]\n",
      "Epoch 260/300: 100%|██████████| 21/21 [00:03<00:00,  6.47it/s]\n",
      "Epoch 261/300: 100%|██████████| 21/21 [00:03<00:00,  6.71it/s]\n",
      "Epoch 262/300: 100%|██████████| 21/21 [00:03<00:00,  6.74it/s]\n",
      "Epoch 263/300: 100%|██████████| 21/21 [00:03<00:00,  6.68it/s]\n",
      "Epoch 264/300: 100%|██████████| 21/21 [00:03<00:00,  6.70it/s]\n",
      "Epoch 265/300: 100%|██████████| 21/21 [00:03<00:00,  6.61it/s]\n",
      "Epoch 266/300: 100%|██████████| 21/21 [00:03<00:00,  6.27it/s]\n",
      "Epoch 267/300: 100%|██████████| 21/21 [00:03<00:00,  6.68it/s]\n",
      "Epoch 268/300: 100%|██████████| 21/21 [00:03<00:00,  6.77it/s]\n",
      "Epoch 269/300: 100%|██████████| 21/21 [00:03<00:00,  6.69it/s]\n",
      "Epoch 270/300: 100%|██████████| 21/21 [00:03<00:00,  6.74it/s]\n",
      "Epoch 271/300: 100%|██████████| 21/21 [00:03<00:00,  6.53it/s]\n",
      "Epoch 272/300: 100%|██████████| 21/21 [00:03<00:00,  6.54it/s]\n",
      "Epoch 273/300: 100%|██████████| 21/21 [00:03<00:00,  6.67it/s]\n",
      "Epoch 274/300: 100%|██████████| 21/21 [00:03<00:00,  6.62it/s]\n",
      "Epoch 275/300: 100%|██████████| 21/21 [00:03<00:00,  6.45it/s]\n"
     ]
    },
    {
     "name": "stdout",
     "output_type": "stream",
     "text": [
      "model state saved with validation accuracy: 93.4783\n"
     ]
    },
    {
     "name": "stderr",
     "output_type": "stream",
     "text": [
      "Epoch 276/300: 100%|██████████| 21/21 [00:03<00:00,  6.63it/s]\n",
      "Epoch 277/300: 100%|██████████| 21/21 [00:03<00:00,  6.63it/s]\n",
      "Epoch 278/300: 100%|██████████| 21/21 [00:03<00:00,  6.64it/s]\n",
      "Epoch 279/300: 100%|██████████| 21/21 [00:03<00:00,  6.63it/s]\n",
      "Epoch 280/300: 100%|██████████| 21/21 [00:03<00:00,  6.76it/s]\n",
      "Epoch 281/300: 100%|██████████| 21/21 [00:03<00:00,  6.77it/s]\n",
      "Epoch 282/300: 100%|██████████| 21/21 [00:03<00:00,  6.66it/s]\n",
      "Epoch 283/300: 100%|██████████| 21/21 [00:03<00:00,  6.57it/s]\n",
      "Epoch 284/300: 100%|██████████| 21/21 [00:03<00:00,  6.36it/s]\n",
      "Epoch 285/300: 100%|██████████| 21/21 [00:03<00:00,  6.67it/s]\n"
     ]
    },
    {
     "name": "stdout",
     "output_type": "stream",
     "text": [
      "model state saved with validation accuracy: 94.2029\n"
     ]
    },
    {
     "name": "stderr",
     "output_type": "stream",
     "text": [
      "Epoch 286/300: 100%|██████████| 21/21 [00:03<00:00,  6.65it/s]\n",
      "Epoch 287/300: 100%|██████████| 21/21 [00:03<00:00,  6.64it/s]\n",
      "Epoch 288/300: 100%|██████████| 21/21 [00:03<00:00,  6.61it/s]\n",
      "Epoch 289/300: 100%|██████████| 21/21 [00:03<00:00,  6.66it/s]\n",
      "Epoch 290/300: 100%|██████████| 21/21 [00:03<00:00,  6.64it/s]\n",
      "Epoch 291/300: 100%|██████████| 21/21 [00:03<00:00,  6.50it/s]\n",
      "Epoch 292/300: 100%|██████████| 21/21 [00:03<00:00,  6.73it/s]\n",
      "Epoch 293/300: 100%|██████████| 21/21 [00:03<00:00,  6.69it/s]\n",
      "Epoch 294/300: 100%|██████████| 21/21 [00:03<00:00,  6.57it/s]\n",
      "Epoch 295/300: 100%|██████████| 21/21 [00:03<00:00,  6.35it/s]\n",
      "Epoch 296/300: 100%|██████████| 21/21 [00:03<00:00,  6.46it/s]\n",
      "Epoch 297/300: 100%|██████████| 21/21 [00:03<00:00,  6.50it/s]\n",
      "Epoch 298/300: 100%|██████████| 21/21 [00:03<00:00,  6.62it/s]\n",
      "Epoch 299/300: 100%|██████████| 21/21 [00:03<00:00,  6.68it/s]\n",
      "Epoch 300/300: 100%|██████████| 21/21 [00:03<00:00,  6.66it/s]\n"
     ]
    }
   ],
   "source": [
    "results= model_trainer(model,train_loader,val_loader,training_arg)"
   ]
  },
  {
   "cell_type": "markdown",
   "metadata": {},
   "source": [
    "### 9. Inspect training process"
   ]
  },
  {
   "cell_type": "code",
   "execution_count": 10,
   "metadata": {},
   "outputs": [
    {
     "data": {
      "image/png": "[encoded data removed]",
      "text/plain": [
       "<Figure size 640x480 with 1 Axes>"
      ]
     },
     "metadata": {},
     "output_type": "display_data"
    },
    {
     "data": {
      "image/png": "[encoded data removed]",
      "text/plain": [
       "<Figure size 640x480 with 1 Axes>"
      ]
     },
     "metadata": {},
     "output_type": "display_data"
    }
   ],
   "source": [
    "plt.figure()\n",
    "plt.plot(results['epoch_loss'])\n",
    "plt.xlabel('epoch')\n",
    "plt.ylabel('Avg loss')\n",
    "plt.show()\n",
    "\n",
    "\n",
    "plt.figure()\n",
    "plt.plot(results['training_acc'],label='Training data')\n",
    "plt.plot(results['validation_acc'],label='Validation data')\n",
    "plt.legend()\n",
    "plt.xlabel('epoch')\n",
    "plt.ylabel('Accuracy')\n",
    "plt.show()"
   ]
  },
  {
   "cell_type": "markdown",
   "metadata": {},
   "source": [
    "### 10. Evaluate model"
   ]
  },
  {
   "cell_type": "code",
   "execution_count": 11,
   "metadata": {},
   "outputs": [
    {
     "name": "stdout",
     "output_type": "stream",
     "text": [
      "Fine tune model loaded\n",
      "Train Binary Accuracy: 100.0000\n",
      "Confusion Matrix:\n",
      "[[168   0]\n",
      " [  0 154]]\n",
      "Accuracy: 100.0\n",
      "Precision: 100.0\n",
      "Sensitivity (Recall): 100.0\n",
      "Specificity: 100.0\n",
      "F1 Score: 1.0\n",
      "AUC Score: 1.0\n",
      "\n",
      "\n",
      "Validation Binary Accuracy: 94.2029\n",
      "Confusion Matrix:\n",
      "[[67  5]\n",
      " [ 3 63]]\n",
      "Accuracy: 94.20289855072464\n",
      "Precision: 92.64705882352942\n",
      "Sensitivity (Recall): 95.45454545454545\n",
      "Specificity: 93.05555555555556\n",
      "F1 Score: 0.9402985074626866\n",
      "AUC Score: 0.9724326599326599\n",
      "\n",
      "\n",
      "Test Binary Accuracy: 89.1304\n",
      "Confusion Matrix:\n",
      "[[43  5]\n",
      " [ 5 39]]\n",
      "Accuracy: 89.13043478260869\n",
      "Precision: 88.63636363636364\n",
      "Sensitivity (Recall): 88.63636363636364\n",
      "Specificity: 89.58333333333334\n",
      "F1 Score: 0.8863636363636365\n",
      "AUC Score: 0.9673295454545455\n",
      "Completed\n"
     ]
    }
   ],
   "source": [
    "best_model_state=torch.load(cnn_modelfullpath, map_location=device)\n",
    "model.load_state_dict(best_model_state,strict=True)\n",
    "model.eval()\n",
    "print('Fine tune model loaded')\n",
    "\n",
    "tr_accuracy, tr_est,tr_labels,tr_scores= evaluate_binary_accuracy(model, train_loader)\n",
    "print(f'Train Binary Accuracy: {tr_accuracy:.4f}')\n",
    "perf_metrics(tr_labels, tr_est,tr_scores)\n",
    "print('\\n')\n",
    "v_accuracy,val_est,val_labels, val_scores = evaluate_binary_accuracy(model, val_loader)\n",
    "print(f'Validation Binary Accuracy: {v_accuracy:.4f}')\n",
    "perf_metrics(val_labels, val_est,val_scores)\n",
    "print('\\n')\n",
    "test_accuracy,test_est,test_labels, test_scores = evaluate_binary_accuracy(model, test_loader)\n",
    "print(f'Test Binary Accuracy: {test_accuracy:.4f}')\n",
    "perf_metrics(test_labels, test_est,test_scores)\n",
    "\n",
    "print('Completed')"
   ]
  }
 ],
 "metadata": {
  "kernelspec": {
   "display_name": "mybertV2",
   "language": "python",
   "name": "python3"
  },
  "language_info": {
   "codemirror_mode": {
    "name": "ipython",
    "version": 3
   },
   "file_extension": ".py",
   "mimetype": "text/x-python",
   "name": "python",
   "nbconvert_exporter": "python",
   "pygments_lexer": "ipython3",
   "version": "3.9.18"
  }
 },
 "nbformat": 4,
 "nbformat_minor": 2
}
