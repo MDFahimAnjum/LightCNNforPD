{
 "cells": [
  {
   "cell_type": "markdown",
   "metadata": {},
   "source": [
    "## Binary classification with DeepConvNet\n",
    "\n",
    "The paths utilized are defiend in the `path_module.py`\n",
    "\n",
    "Before this, the data must be processed. \n",
    "- `data_processing` notebook loads raw data and prepares training,validation and test dataset\n",
    "\n",
    "### 1. Import libraries"
   ]
  },
  {
   "cell_type": "code",
   "execution_count": 1,
   "metadata": {},
   "outputs": [],
   "source": [
    "from modules.path_module import *\n",
    "from modules.utils_module import *\n",
    "import os\n",
    "import joblib\n",
    "import torch\n",
    "import numpy as np\n",
    "import matplotlib.pyplot as plt"
   ]
  },
  {
   "cell_type": "markdown",
   "metadata": {},
   "source": [
    "### 2. Load data"
   ]
  },
  {
   "cell_type": "code",
   "execution_count": 2,
   "metadata": {},
   "outputs": [],
   "source": [
    "train_data=joblib.load(os.path.join(processed_datapath,\"train_data.joblib\"))\n",
    "test_data=joblib.load(os.path.join(processed_datapath,\"test_data.joblib\"))\n",
    "val_data=joblib.load(os.path.join(processed_datapath,\"val_data.joblib\"))"
   ]
  },
  {
   "cell_type": "markdown",
   "metadata": {},
   "source": [
    "### 3. Prepare data\n",
    "- We train using the training set and save the model that gives the best performance on the validation set"
   ]
  },
  {
   "cell_type": "code",
   "execution_count": 3,
   "metadata": {},
   "outputs": [],
   "source": [
    "train_sigdata,train_label=prepare_cnn_data(train_data)\n",
    "val_sigdata,val_label=prepare_cnn_data(val_data)\n",
    "test_sigdata,test_label=prepare_cnn_data(test_data)"
   ]
  },
  {
   "cell_type": "markdown",
   "metadata": {},
   "source": [
    "### 4. DeepConvNet model"
   ]
  },
  {
   "cell_type": "markdown",
   "metadata": {},
   "source": [
    "- Paper: https://onlinelibrary.wiley.com/doi/full/10.1002/hbm.23730\n",
    "- Pytorch conversion from keras implementation https://github.com/vlawhern/arl-eegmodels/blob/master/EEGModels.py\n",
    "- Another useful link: https://github.com/TNTLFreiburg/braindecode/tree/master/braindecode\n",
    "- Pytorch implementation of the Deep Convolutional Network as described in Schirrmeister et. al. (2017), Human Brain Mapping.\n",
    "- In PyTorch, kernel constraints like max_norm are not directly implemented as part of the layer definitions.\n",
    "\n",
    "- Assumes the input is a 5-second EEG signal sampled at 500Hz. \n",
    "\n",
    "- Note that we use the max_norm constraint on all convolutional layers, as well as the classification layer.\n",
    "- In PyTorch, kernel constraints like max_norm are not directly implemented as part of the layer definitions. Instead, they can be implemented using hooks or by manually enforcing the constraint during the forward pass or after updating the weights. \n",
    "- Model was developed with hyperparameters from original paper "
   ]
  },
  {
   "cell_type": "code",
   "execution_count": 4,
   "metadata": {},
   "outputs": [],
   "source": [
    "import torch\n",
    "import torch.nn as nn\n",
    "import torch.nn.functional as F\n",
    "\n",
    "def max_norm(layer, max_value, axis=0):\n",
    "    with torch.no_grad():\n",
    "        norm = layer.weight.norm(2, dim=axis, keepdim=True)\n",
    "        desired = torch.clamp(norm, 0, max_value)\n",
    "        scale = desired / (1e-8 + norm)\n",
    "        layer.weight.data *= scale\n",
    "\n",
    "class DeepConvNet(nn.Module):\n",
    "    def __init__(self, nb_classes, Chans=64, Samples=256, dropoutRate=0.5):\n",
    "        super(DeepConvNet, self).__init__()\n",
    "\n",
    "        # Block 1\n",
    "        self.conv1_1 = nn.Conv2d(in_channels=1, out_channels=25, kernel_size=(1, 10), padding=0)\n",
    "        self.conv1_2 = nn.Conv2d(in_channels=25, out_channels=25, kernel_size=(Chans, 1), padding=0)\n",
    "        self.batchnorm1 = nn.BatchNorm2d(num_features=25, eps=1e-05, momentum=0.9)\n",
    "        self.pool1 = nn.MaxPool2d(kernel_size=(1, 3), stride=(1, 3))\n",
    "        self.dropout1 = nn.Dropout(p=dropoutRate)\n",
    "\n",
    "        # Block 2\n",
    "        self.conv2 = nn.Conv2d(in_channels=25, out_channels=50, kernel_size=(1, 10), padding=0)\n",
    "        self.batchnorm2 = nn.BatchNorm2d(num_features=50, eps=1e-05, momentum=0.9)\n",
    "        self.pool2 = nn.MaxPool2d(kernel_size=(1, 3), stride=(1, 3))\n",
    "        self.dropout2 = nn.Dropout(p=dropoutRate)\n",
    "\n",
    "        # Block 3\n",
    "        self.conv3 = nn.Conv2d(in_channels=50, out_channels=100, kernel_size=(1, 10), padding=0)\n",
    "        self.batchnorm3 = nn.BatchNorm2d(num_features=100, eps=1e-05, momentum=0.9)\n",
    "        self.pool3 = nn.MaxPool2d(kernel_size=(1, 3), stride=(1, 3))\n",
    "        self.dropout3 = nn.Dropout(p=dropoutRate)\n",
    "\n",
    "        # Block 4\n",
    "        self.conv4 = nn.Conv2d(in_channels=100, out_channels=200, kernel_size=(1, 10), padding=0)\n",
    "        self.batchnorm4 = nn.BatchNorm2d(num_features=200, eps=1e-05, momentum=0.9)\n",
    "        self.pool4 = nn.MaxPool2d(kernel_size=(1, 3), stride=(1, 3))\n",
    "        self.dropout4 = nn.Dropout(p=dropoutRate)\n",
    "\n",
    "        # Fully connected layer\n",
    "        self.fc = nn.Linear(in_features=200 * 26, out_features=nb_classes)\n",
    "\n",
    "    def forward(self, x):\n",
    "        x = x.unsqueeze(1)  # Add a channel dimension: (batch_size, 1, Chans, Samples)\n",
    "\n",
    "        # Block 1\n",
    "        x = self.conv1_1(x) # batch x 25 x chan x  sample -9=2491\n",
    "        max_norm(self.conv1_1, 2.0, axis=(0, 1, 2))\n",
    "        x = self.conv1_2(x) # batch x 25 x 1 x  sample -10\n",
    "        max_norm(self.conv1_2, 2.0, axis=(0, 1, 2))\n",
    "        x = self.batchnorm1(x)\n",
    "        x = F.elu(x)\n",
    "        x = self.pool1(x) # batch x 25 x 1 x  (2491-3)//3+1= 830\n",
    "        x = self.dropout1(x)\n",
    "\n",
    "        # Block 2\n",
    "        x = self.conv2(x) # batch x 50 x 1 x  830-9=821\n",
    "        max_norm(self.conv2, 2.0, axis=(0, 1, 2))\n",
    "        x = self.batchnorm2(x)\n",
    "        x = F.elu(x)\n",
    "        x = self.pool2(x) # batch x 50 x 1 x  (821-3)//3+1=273\n",
    "        x = self.dropout2(x)\n",
    "\n",
    "        # Block 3\n",
    "        x = self.conv3(x) # batch x 100 x 1 x  273-9=264\n",
    "        max_norm(self.conv3, 2.0, axis=(0, 1, 2))\n",
    "        x = self.batchnorm3(x)\n",
    "        x = F.elu(x)\n",
    "        x = self.pool3(x) #batch x 100 x 1 x (264-3)//3+1=88\n",
    "        x = self.dropout3(x)\n",
    "\n",
    "        # Block 4\n",
    "        x = self.conv4(x) # batch x 200 x 1 x  88-9=79\n",
    "        max_norm(self.conv4, 2.0, axis=(0, 1, 2))\n",
    "        x = self.batchnorm4(x)\n",
    "        x = F.elu(x)\n",
    "        x = self.pool4(x) # batch x 200 x 1 x  (79-3)//3+1=26\n",
    "        x = self.dropout4(x)\n",
    "\n",
    "        # Flatten and fully connected layer\n",
    "        x = x.view(x.size(0), -1)\n",
    "        x = self.fc(x)\n",
    "        max_norm(self.fc, 0.5, axis=0)\n",
    "\n",
    "        return x\n"
   ]
  },
  {
   "cell_type": "markdown",
   "metadata": {},
   "source": [
    "### 5. Initialize model"
   ]
  },
  {
   "cell_type": "code",
   "execution_count": 5,
   "metadata": {},
   "outputs": [
    {
     "name": "stdout",
     "output_type": "stream",
     "text": [
      "Running on: cpu\n",
      "Model created\n"
     ]
    }
   ],
   "source": [
    "import torch.optim as optim\n",
    "from torch import cuda\n",
    "\n",
    "# Set the random seed for reproducibility\n",
    "random_seed = 42\n",
    "random.seed(random_seed)\n",
    "torch.manual_seed(random_seed)\n",
    "torch.cuda.manual_seed(random_seed)\n",
    "np.random.seed(random_seed)\n",
    "\n",
    "# use GPU\n",
    "device='cpu'#'cuda' if cuda.is_available() else 'cpu'\n",
    "print(\"Running on: \"+device)\n",
    "cuda.empty_cache()\n",
    "\n",
    "# initialize model\n",
    "n_chan=train_data[0].data.shape[1]\n",
    "n_datalength=train_data[0].data.shape[0]\n",
    "model = DeepConvNet(nb_classes=2, Chans=n_chan, Samples=n_datalength, dropoutRate=0.5)\n",
    "model.to(device)\n",
    "print('Model created')"
   ]
  },
  {
   "cell_type": "markdown",
   "metadata": {},
   "source": [
    "### 6. Configure Training"
   ]
  },
  {
   "cell_type": "code",
   "execution_count": 6,
   "metadata": {},
   "outputs": [],
   "source": [
    "#batch_size = 8#1\n",
    "batch_size = 64 # from their doc website\n",
    "num_epochs = 70\n",
    "#num_epochs = 4 # from their website\n",
    "lrate=0.0625 * 0.01 # from shallownet\n",
    "#lrate= 1 * 0.01 # from their doc website. This failed to train the network\n",
    "weight_decay = 0.5 * 0.001  # from their website\n",
    "patience=80\n",
    "# Define loss function and optimizer\n",
    "criterion = nn.BCELoss()\n",
    "#optimizer = optim.Adam(model.parameters(), lr=lrate,weight_decay=weight_decay)\n",
    "#criterion = nn.NLLloss() # from their website\n",
    "optimizer = optim.AdamW(model.parameters(), lr=lrate,weight_decay=weight_decay) # from their website\n",
    "cnn_modelfullpath=os.path.join(cnn_modelpath,'deepnet.pt')\n",
    "random_seed=42\n",
    "\n",
    "training_arg={\n",
    "    'modelfullpath': cnn_modelfullpath,\n",
    "    'criterion': criterion,\n",
    "    'optimizer': optimizer,\n",
    "    'epochs': num_epochs,\n",
    "    'patience': patience,\n",
    "    'seed': random_seed\n",
    "}\n"
   ]
  },
  {
   "cell_type": "markdown",
   "metadata": {},
   "source": [
    "### 7. Prepare data"
   ]
  },
  {
   "cell_type": "code",
   "execution_count": 7,
   "metadata": {},
   "outputs": [],
   "source": [
    "from torch.utils.data import DataLoader, TensorDataset\n",
    "\n",
    "train_dataset = TensorDataset(torch.stack(train_sigdata), torch.stack(train_label))\n",
    "val_dataset = TensorDataset(torch.stack(val_sigdata), torch.stack(val_label))\n",
    "test_dataset = TensorDataset(torch.stack(test_sigdata), torch.stack(test_label))\n",
    "\n",
    "train_loader = DataLoader(train_dataset, batch_size=batch_size, shuffle=True)\n",
    "val_loader = DataLoader(val_dataset, batch_size=1, shuffle=False)\n",
    "test_loader = DataLoader(test_dataset, batch_size=1, shuffle=False)"
   ]
  },
  {
   "cell_type": "markdown",
   "metadata": {},
   "source": [
    "### 8. Train model"
   ]
  },
  {
   "cell_type": "code",
   "execution_count": 8,
   "metadata": {},
   "outputs": [
    {
     "name": "stderr",
     "output_type": "stream",
     "text": [
      "Epoch 1/70: 100%|██████████| 6/6 [00:12<00:00,  2.16s/it]\n"
     ]
    },
    {
     "name": "stdout",
     "output_type": "stream",
     "text": [
      "model state saved with validation accuracy: 49.2754\n"
     ]
    },
    {
     "name": "stderr",
     "output_type": "stream",
     "text": [
      "Epoch 2/70: 100%|██████████| 6/6 [00:10<00:00,  1.72s/it]\n",
      "Epoch 3/70: 100%|██████████| 6/6 [00:10<00:00,  1.72s/it]\n",
      "Epoch 4/70: 100%|██████████| 6/6 [00:10<00:00,  1.72s/it]\n",
      "Epoch 5/70: 100%|██████████| 6/6 [00:10<00:00,  1.73s/it]\n"
     ]
    },
    {
     "name": "stdout",
     "output_type": "stream",
     "text": [
      "model state saved with validation accuracy: 50.0000\n"
     ]
    },
    {
     "name": "stderr",
     "output_type": "stream",
     "text": [
      "Epoch 6/70: 100%|██████████| 6/6 [00:10<00:00,  1.74s/it]\n",
      "Epoch 7/70: 100%|██████████| 6/6 [00:10<00:00,  1.69s/it]\n"
     ]
    },
    {
     "name": "stdout",
     "output_type": "stream",
     "text": [
      "model state saved with validation accuracy: 51.4493\n"
     ]
    },
    {
     "name": "stderr",
     "output_type": "stream",
     "text": [
      "Epoch 8/70: 100%|██████████| 6/6 [00:09<00:00,  1.66s/it]\n",
      "Epoch 9/70: 100%|██████████| 6/6 [00:10<00:00,  1.70s/it]\n",
      "Epoch 10/70: 100%|██████████| 6/6 [00:10<00:00,  1.73s/it]\n",
      "Epoch 11/70: 100%|██████████| 6/6 [00:10<00:00,  1.69s/it]\n"
     ]
    },
    {
     "name": "stdout",
     "output_type": "stream",
     "text": [
      "model state saved with validation accuracy: 52.1739\n"
     ]
    },
    {
     "name": "stderr",
     "output_type": "stream",
     "text": [
      "Epoch 12/70: 100%|██████████| 6/6 [00:10<00:00,  1.68s/it]\n"
     ]
    },
    {
     "name": "stdout",
     "output_type": "stream",
     "text": [
      "model state saved with validation accuracy: 52.8986\n"
     ]
    },
    {
     "name": "stderr",
     "output_type": "stream",
     "text": [
      "Epoch 13/70: 100%|██████████| 6/6 [00:10<00:00,  1.69s/it]\n"
     ]
    },
    {
     "name": "stdout",
     "output_type": "stream",
     "text": [
      "model state saved with validation accuracy: 54.3478\n"
     ]
    },
    {
     "name": "stderr",
     "output_type": "stream",
     "text": [
      "Epoch 14/70: 100%|██████████| 6/6 [00:10<00:00,  1.67s/it]\n",
      "Epoch 15/70: 100%|██████████| 6/6 [00:10<00:00,  1.70s/it]\n",
      "Epoch 16/70: 100%|██████████| 6/6 [00:10<00:00,  1.71s/it]\n",
      "Epoch 17/70: 100%|██████████| 6/6 [00:10<00:00,  1.79s/it]\n",
      "Epoch 18/70: 100%|██████████| 6/6 [00:10<00:00,  1.67s/it]\n",
      "Epoch 19/70: 100%|██████████| 6/6 [00:10<00:00,  1.75s/it]\n",
      "Epoch 20/70: 100%|██████████| 6/6 [00:10<00:00,  1.71s/it]\n",
      "Epoch 21/70: 100%|██████████| 6/6 [00:10<00:00,  1.78s/it]\n",
      "Epoch 22/70: 100%|██████████| 6/6 [00:10<00:00,  1.70s/it]\n",
      "Epoch 23/70: 100%|██████████| 6/6 [00:10<00:00,  1.69s/it]\n",
      "Epoch 24/70: 100%|██████████| 6/6 [00:10<00:00,  1.74s/it]\n",
      "Epoch 25/70: 100%|██████████| 6/6 [00:10<00:00,  1.74s/it]\n",
      "Epoch 26/70: 100%|██████████| 6/6 [00:10<00:00,  1.71s/it]\n",
      "Epoch 27/70: 100%|██████████| 6/6 [00:10<00:00,  1.71s/it]\n",
      "Epoch 28/70: 100%|██████████| 6/6 [00:10<00:00,  1.68s/it]\n",
      "Epoch 29/70: 100%|██████████| 6/6 [00:10<00:00,  1.68s/it]\n",
      "Epoch 30/70: 100%|██████████| 6/6 [00:10<00:00,  1.73s/it]\n",
      "Epoch 31/70: 100%|██████████| 6/6 [00:10<00:00,  1.71s/it]\n",
      "Epoch 32/70: 100%|██████████| 6/6 [00:10<00:00,  1.69s/it]\n",
      "Epoch 33/70: 100%|██████████| 6/6 [00:10<00:00,  1.68s/it]\n",
      "Epoch 34/70: 100%|██████████| 6/6 [00:10<00:00,  1.68s/it]\n",
      "Epoch 35/70: 100%|██████████| 6/6 [00:10<00:00,  1.68s/it]\n",
      "Epoch 36/70: 100%|██████████| 6/6 [00:10<00:00,  1.76s/it]\n",
      "Epoch 37/70: 100%|██████████| 6/6 [00:09<00:00,  1.64s/it]\n",
      "Epoch 38/70: 100%|██████████| 6/6 [00:10<00:00,  1.67s/it]\n",
      "Epoch 39/70: 100%|██████████| 6/6 [00:10<00:00,  1.69s/it]\n",
      "Epoch 40/70: 100%|██████████| 6/6 [00:10<00:00,  1.77s/it]\n",
      "Epoch 41/70: 100%|██████████| 6/6 [00:09<00:00,  1.64s/it]\n",
      "Epoch 42/70: 100%|██████████| 6/6 [00:10<00:00,  1.73s/it]\n",
      "Epoch 43/70: 100%|██████████| 6/6 [00:09<00:00,  1.64s/it]\n",
      "Epoch 44/70: 100%|██████████| 6/6 [00:10<00:00,  1.69s/it]\n",
      "Epoch 45/70: 100%|██████████| 6/6 [00:09<00:00,  1.64s/it]\n"
     ]
    },
    {
     "name": "stdout",
     "output_type": "stream",
     "text": [
      "model state saved with validation accuracy: 60.1449\n"
     ]
    },
    {
     "name": "stderr",
     "output_type": "stream",
     "text": [
      "Epoch 46/70: 100%|██████████| 6/6 [00:09<00:00,  1.57s/it]\n",
      "Epoch 47/70: 100%|██████████| 6/6 [00:09<00:00,  1.57s/it]\n"
     ]
    },
    {
     "name": "stdout",
     "output_type": "stream",
     "text": [
      "model state saved with validation accuracy: 60.8696\n"
     ]
    },
    {
     "name": "stderr",
     "output_type": "stream",
     "text": [
      "Epoch 48/70: 100%|██████████| 6/6 [00:11<00:00,  1.90s/it]\n"
     ]
    },
    {
     "name": "stdout",
     "output_type": "stream",
     "text": [
      "model state saved with validation accuracy: 67.3913\n"
     ]
    },
    {
     "name": "stderr",
     "output_type": "stream",
     "text": [
      "Epoch 49/70: 100%|██████████| 6/6 [00:11<00:00,  1.84s/it]\n",
      "Epoch 50/70: 100%|██████████| 6/6 [00:10<00:00,  1.83s/it]\n",
      "Epoch 51/70: 100%|██████████| 6/6 [00:10<00:00,  1.83s/it]\n",
      "Epoch 52/70: 100%|██████████| 6/6 [00:10<00:00,  1.71s/it]\n",
      "Epoch 53/70: 100%|██████████| 6/6 [00:10<00:00,  1.78s/it]\n",
      "Epoch 54/70: 100%|██████████| 6/6 [00:10<00:00,  1.75s/it]\n",
      "Epoch 55/70: 100%|██████████| 6/6 [00:10<00:00,  1.77s/it]\n",
      "Epoch 56/70: 100%|██████████| 6/6 [00:10<00:00,  1.74s/it]\n"
     ]
    },
    {
     "name": "stdout",
     "output_type": "stream",
     "text": [
      "model state saved with validation accuracy: 73.1884\n"
     ]
    },
    {
     "name": "stderr",
     "output_type": "stream",
     "text": [
      "Epoch 57/70: 100%|██████████| 6/6 [00:09<00:00,  1.61s/it]\n",
      "Epoch 58/70: 100%|██████████| 6/6 [00:09<00:00,  1.58s/it]\n"
     ]
    },
    {
     "name": "stdout",
     "output_type": "stream",
     "text": [
      "model state saved with validation accuracy: 82.6087\n"
     ]
    },
    {
     "name": "stderr",
     "output_type": "stream",
     "text": [
      "Epoch 59/70: 100%|██████████| 6/6 [00:10<00:00,  1.78s/it]\n",
      "Epoch 60/70: 100%|██████████| 6/6 [00:09<00:00,  1.61s/it]\n",
      "Epoch 61/70: 100%|██████████| 6/6 [00:09<00:00,  1.62s/it]\n",
      "Epoch 62/70: 100%|██████████| 6/6 [00:09<00:00,  1.64s/it]\n",
      "Epoch 63/70: 100%|██████████| 6/6 [00:10<00:00,  1.81s/it]\n",
      "Epoch 64/70: 100%|██████████| 6/6 [00:10<00:00,  1.82s/it]\n",
      "Epoch 65/70: 100%|██████████| 6/6 [00:11<00:00,  1.84s/it]\n",
      "Epoch 66/70: 100%|██████████| 6/6 [00:10<00:00,  1.78s/it]\n",
      "Epoch 67/70: 100%|██████████| 6/6 [00:10<00:00,  1.75s/it]\n",
      "Epoch 68/70: 100%|██████████| 6/6 [00:10<00:00,  1.76s/it]\n",
      "Epoch 69/70: 100%|██████████| 6/6 [00:10<00:00,  1.69s/it]\n",
      "Epoch 70/70: 100%|██████████| 6/6 [00:10<00:00,  1.75s/it]\n"
     ]
    }
   ],
   "source": [
    "results= model_trainer(model,train_loader,val_loader,training_arg)"
   ]
  },
  {
   "cell_type": "markdown",
   "metadata": {},
   "source": [
    "### 9. Inspect training process"
   ]
  },
  {
   "cell_type": "code",
   "execution_count": 9,
   "metadata": {},
   "outputs": [
    {
     "data": {
      "image/png": "[encoded data removed]",
      "text/plain": [
       "<Figure size 640x480 with 1 Axes>"
      ]
     },
     "metadata": {},
     "output_type": "display_data"
    },
    {
     "data": {
      "image/png": "[encoded data removed]",
      "text/plain": [
       "<Figure size 640x480 with 1 Axes>"
      ]
     },
     "metadata": {},
     "output_type": "display_data"
    }
   ],
   "source": [
    "plt.figure()\n",
    "plt.plot(results['epoch_loss'])\n",
    "plt.xlabel('epoch')\n",
    "plt.ylabel('Avg loss')\n",
    "plt.show()\n",
    "\n",
    "\n",
    "plt.figure()\n",
    "plt.plot(results['training_acc'],label='Training data')\n",
    "plt.plot(results['validation_acc'],label='Validation data')\n",
    "plt.legend()\n",
    "plt.xlabel('epoch')\n",
    "plt.ylabel('Accuracy')\n",
    "plt.show()"
   ]
  },
  {
   "cell_type": "markdown",
   "metadata": {},
   "source": [
    "### 10. Evaluate model"
   ]
  },
  {
   "cell_type": "code",
   "execution_count": 10,
   "metadata": {},
   "outputs": [
    {
     "name": "stdout",
     "output_type": "stream",
     "text": [
      "Fine tune model loaded\n",
      "Train Binary Accuracy: 91.3043\n",
      "Confusion Matrix:\n",
      "[[155  13]\n",
      " [ 15 139]]\n",
      "Accuracy: 91.30434782608695\n",
      "Precision: 91.44736842105263\n",
      "Sensitivity (Recall): 90.25974025974025\n",
      "Specificity: 92.26190476190477\n",
      "F1 Score: 0.9084967320261438\n",
      "AUC Score: 0.9526515151515151\n",
      "\n",
      "\n",
      "Validation Binary Accuracy: 82.6087\n",
      "Confusion Matrix:\n",
      "[[62 10]\n",
      " [14 52]]\n",
      "Accuracy: 82.6086956521739\n",
      "Precision: 83.87096774193549\n",
      "Sensitivity (Recall): 78.78787878787878\n",
      "Specificity: 86.11111111111111\n",
      "F1 Score: 0.8125\n",
      "AUC Score: 0.8958333333333334\n",
      "\n",
      "\n",
      "Test Binary Accuracy: 85.8696\n",
      "Confusion Matrix:\n",
      "[[43  5]\n",
      " [ 8 36]]\n",
      "Accuracy: 85.86956521739131\n",
      "Precision: 87.8048780487805\n",
      "Sensitivity (Recall): 81.81818181818183\n",
      "Specificity: 89.58333333333334\n",
      "F1 Score: 0.8470588235294119\n",
      "AUC Score: 0.9171401515151516\n",
      "Completed\n"
     ]
    }
   ],
   "source": [
    "best_model_state=torch.load(cnn_modelfullpath, map_location=device)\n",
    "model.load_state_dict(best_model_state,strict=True)\n",
    "model.eval()\n",
    "print('Fine tune model loaded')\n",
    "\n",
    "tr_accuracy, tr_est,tr_labels,tr_scores= evaluate_binary_accuracy(model, train_loader)\n",
    "print(f'Train Binary Accuracy: {tr_accuracy:.4f}')\n",
    "perf_metrics(tr_labels, tr_est,tr_scores)\n",
    "print('\\n')\n",
    "v_accuracy,val_est,val_labels, val_scores = evaluate_binary_accuracy(model, val_loader)\n",
    "print(f'Validation Binary Accuracy: {v_accuracy:.4f}')\n",
    "perf_metrics(val_labels, val_est,val_scores)\n",
    "print('\\n')\n",
    "test_accuracy,test_est,test_labels, test_scores = evaluate_binary_accuracy(model, test_loader)\n",
    "print(f'Test Binary Accuracy: {test_accuracy:.4f}')\n",
    "perf_metrics(test_labels, test_est,test_scores)\n",
    "\n",
    "print('Completed')"
   ]
  }
 ],
 "metadata": {
  "kernelspec": {
   "display_name": "mybertV2",
   "language": "python",
   "name": "python3"
  },
  "language_info": {
   "codemirror_mode": {
    "name": "ipython",
    "version": 3
   },
   "file_extension": ".py",
   "mimetype": "text/x-python",
   "name": "python",
   "nbconvert_exporter": "python",
   "pygments_lexer": "ipython3",
   "version": "3.9.18"
  }
 },
 "nbformat": 4,
 "nbformat_minor": 2
}
