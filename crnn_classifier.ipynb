{
 "cells": [
  {
   "cell_type": "markdown",
   "metadata": {},
   "source": [
    "## Binary classification with CRNN\n",
    "\n",
    "The paths utilized are defiend in the `path_module.py`\n",
    "\n",
    "Before this, the data must be processed. \n",
    "- `data_processing` notebook loads raw data and prepares training,validation and test dataset\n",
    "\n",
    "### 1. Import libraries"
   ]
  },
  {
   "cell_type": "code",
   "execution_count": 1,
   "metadata": {},
   "outputs": [],
   "source": [
    "from modules.path_module import *\n",
    "from modules.utils_module import *\n",
    "import os\n",
    "import joblib\n",
    "import torch\n",
    "import numpy as np\n",
    "import matplotlib.pyplot as plt"
   ]
  },
  {
   "cell_type": "markdown",
   "metadata": {},
   "source": [
    "### 2. Load data"
   ]
  },
  {
   "cell_type": "code",
   "execution_count": 2,
   "metadata": {},
   "outputs": [],
   "source": [
    "train_data=joblib.load(os.path.join(processed_datapath,\"train_data.joblib\"))\n",
    "test_data=joblib.load(os.path.join(processed_datapath,\"test_data.joblib\"))\n",
    "val_data=joblib.load(os.path.join(processed_datapath,\"val_data.joblib\"))"
   ]
  },
  {
   "cell_type": "markdown",
   "metadata": {},
   "source": [
    "### 3. Prepare data\n",
    "- We train using the training set and save the model that gives the best performance on the validation set"
   ]
  },
  {
   "cell_type": "code",
   "execution_count": 3,
   "metadata": {},
   "outputs": [],
   "source": [
    "train_sigdata,train_label=prepare_cnn_data(train_data)\n",
    "val_sigdata,val_label=prepare_cnn_data(val_data)\n",
    "test_sigdata,test_label=prepare_cnn_data(test_data)"
   ]
  },
  {
   "cell_type": "markdown",
   "metadata": {},
   "source": [
    "### 4. CRNN model\n",
    "\n",
    "CNN+GRU paper: https://www.ncbi.nlm.nih.gov/pmc/articles/PMC8528094/\n",
    "\n",
    "\n",
    "Model:\n",
    "\n",
    "| Layer                  | Number of filters | Kernel size | Stride | Output shape | Number of parameters | Regularization |\n",
    "|------------------------|-------------------|-------------|--------|--------------|----------------------|----------------|\n",
    "| Input                  | –                 | –           | –      | (2500, 59)   | 0                    | –              |\n",
    "| 1D convolution         | 32                | 3           | 1      | (2498, 32)   | 5,728                | –              |\n",
    "| Max-pooling            | 32                | 3           | 2      | (1249, 32)   | 0                    | Dropout (0.5)  |\n",
    "| 1D convolution         | 64                | 3           | 1      | (1247, 64)   | 6,208                | –              |\n",
    "| Max-pooling            | 64                | 3           | 2      | (623, 64)    | 0                    | Dropout (0.5)  |\n",
    "| GRU                    | 35                | –           | –      | (623, 35)    | 10,500               | –              |\n",
    "| Time distributed       | 35                | –           | –      | (623, 35)    | 1,260                | –              |\n",
    "| Global average pooling | 35                | –           | –      | (1, 35)      | 0                    | –              |\n",
    "| Dense                  | 35                | –           | –      | (1, 2)       | 72                   | –              |\n",
    "| **Total**              |                   |             |        |              | **23,768**           |                |\n",
    "\n",
    "\n",
    "1. **Input Layer**: The input shape is now (2500, 59).\n",
    "2. **1D Convolution Layer**: \n",
    "   - Output shape is calculated using the formula: \\( \\text{Output length} = \\left( \\frac{\\text{Input length} - \\text{Kernel size}}{\\text{Stride}} \\right) + 1 \\)\n",
    "   - Parameters: \\((\\text{Kernel size} \\times \\text{Input channels} + \\text{Bias}) \\times \\text{Number of filters}\\)\n",
    "   - New output shape: \\( (2500 - 3 + 1) = 2498 \\)\n",
    "   - Parameters: \\((3 \\times 59 + 1) \\times 32 = 5,728\\)\n",
    "3. **Max-Pooling Layer**:\n",
    "   - Output shape: \\((2498 - 3) / 2 + 1 = 1249\\)\n",
    "   - No parameters.\n",
    "4. **1D Convolution Layer**:\n",
    "   - Output shape: \\( (1249 - 3 + 1) = 1247 \\)\n",
    "   - Parameters: \\((3 \\times 32 + 1) \\times 64 = 6,208\\)\n",
    "5. **Max-Pooling Layer**:\n",
    "   - Output shape: \\((1247 - 3) / 2 + 1 = 623\\)\n",
    "   - No parameters.\n",
    "6. **GRU Layer**:\n",
    "   - The GRU output shape remains (623, 35) since it depends on the number of GRU units.\n",
    "   - Parameters: GRU units parameters calculation.\n",
    "7. **Time Distributed Layer**:\n",
    "   - A Keras wrapper that applies a dense layer (input x input) in each temporal slice. So, it is 35 by 35 dense layer which is applied to all temporal slice.\n",
    "8. **Global Average Pooling Layer**:\n",
    "   - Output shape: (1, 35)\n",
    "   - No parameters.\n",
    "9. **Dense Layer**:\n",
    "   - Output shape: (1, 2)\n",
    "   - Parameters: \\((35 + 1) \\times 2 = 72\\)\n"
   ]
  },
  {
   "cell_type": "code",
   "execution_count": 4,
   "metadata": {},
   "outputs": [],
   "source": [
    "import torch.nn as nn\n",
    "import torch.nn.functional as F\n",
    "\n",
    "class CRNN_Model(nn.Module):\n",
    "    def __init__(self,chan_total,signal_length):\n",
    "        super(CRNN_Model,self).__init__()\n",
    "\n",
    "        self.conv1=nn.Conv1d(in_channels=chan_total,out_channels=32,kernel_size=3,stride=1,padding=0)\n",
    "        self.pool=nn.MaxPool1d(kernel_size=3,stride=2)\n",
    "        self.conv2=nn.Conv1d(in_channels=32,out_channels=64,kernel_size=3,stride=1,padding=0)\n",
    "        self.gru=nn.GRU(input_size=64,hidden_size=35,batch_first=True)\n",
    "        self.time_distributed = nn.Linear(35, 35)\n",
    "        self.global_pool=nn.AdaptiveAvgPool1d(1)\n",
    "        self.fc=nn.Linear(35,2)\n",
    "        self.dropout = nn.Dropout(0.5)\n",
    "\n",
    "    def forward(self,x):# input batch x chan x signal\n",
    "        x=self.conv1(x)\n",
    "        x=self.pool(x)\n",
    "        x=F.relu(x)\n",
    "        x=self.dropout(x)\n",
    "        \n",
    "        x=self.conv2(x)\n",
    "        x=self.pool(x)\n",
    "        x=F.relu(x)\n",
    "        x=self.dropout(x)\n",
    "        \n",
    "\n",
    "        #gru needs batch x signal x chan\n",
    "        x=x.permute(0,2,1)\n",
    "        x,_=self.gru(x)\n",
    "        x = self.time_distributed(x)\n",
    "        x = F.relu(x)\n",
    "\n",
    "        # we need to apply gobal avg for each time slice. so we changed to: batch  x chan x signal\n",
    "        x=x.permute(0,2,1)\n",
    "        x=self.global_pool(x)\n",
    "        x = x.squeeze(2)  # Remove the sequence_length dimension\n",
    "        x=self.fc(x)\n",
    "        return x "
   ]
  },
  {
   "cell_type": "markdown",
   "metadata": {},
   "source": [
    "### 5. Initialize model"
   ]
  },
  {
   "cell_type": "code",
   "execution_count": 5,
   "metadata": {},
   "outputs": [
    {
     "name": "stdout",
     "output_type": "stream",
     "text": [
      "Running on: cpu\n",
      "Model created\n"
     ]
    }
   ],
   "source": [
    "import torch.optim as optim\n",
    "from torch import cuda\n",
    "\n",
    "# Set the random seed for reproducibility\n",
    "random_seed = 42\n",
    "random.seed(random_seed)\n",
    "torch.manual_seed(random_seed)\n",
    "torch.cuda.manual_seed(random_seed)\n",
    "np.random.seed(random_seed)\n",
    "\n",
    "# use GPU\n",
    "device='cpu'#'cuda' if cuda.is_available() else 'cpu'\n",
    "print(\"Running on: \"+device)\n",
    "cuda.empty_cache()\n",
    "\n",
    "# initialize model\n",
    "n_chan=train_data[0].data.shape[1]\n",
    "n_datalength=train_data[0].data.shape[0]\n",
    "model = CRNN_Model(n_chan,n_datalength)\n",
    "model.to(device)\n",
    "print('Model created')"
   ]
  },
  {
   "cell_type": "markdown",
   "metadata": {},
   "source": [
    "### 6. Configure Training"
   ]
  },
  {
   "cell_type": "code",
   "execution_count": 6,
   "metadata": {},
   "outputs": [],
   "source": [
    "batch_size = 64 # from paper\n",
    "num_epochs = 100 # from paper\n",
    "lrate=1e-3 #from paper\n",
    "patience=100 # no early stopping from paper\n",
    "# Define loss function and optimizer\n",
    "criterion = nn.BCELoss() # from paper\n",
    "optimizer = optim.Adam(model.parameters(), lr=lrate) # from paper\n",
    "cnn_modelfullpath=os.path.join(cnn_modelpath,'crnn.pt')\n",
    "random_seed=42\n",
    "\n",
    "training_arg={\n",
    "    'modelfullpath': cnn_modelfullpath,\n",
    "    'criterion': criterion,\n",
    "    'optimizer': optimizer,\n",
    "    'epochs': num_epochs,\n",
    "    'patience': patience,\n",
    "    'seed': random_seed\n",
    "}"
   ]
  },
  {
   "cell_type": "markdown",
   "metadata": {},
   "source": [
    "### 7. Prepare data"
   ]
  },
  {
   "cell_type": "code",
   "execution_count": 7,
   "metadata": {},
   "outputs": [],
   "source": [
    "from torch.utils.data import DataLoader, TensorDataset\n",
    "\n",
    "train_dataset = TensorDataset(torch.stack(train_sigdata), torch.stack(train_label))\n",
    "val_dataset = TensorDataset(torch.stack(val_sigdata), torch.stack(val_label))\n",
    "test_dataset = TensorDataset(torch.stack(test_sigdata), torch.stack(test_label))\n",
    "\n",
    "train_loader = DataLoader(train_dataset, batch_size=batch_size, shuffle=True)\n",
    "val_loader = DataLoader(val_dataset, batch_size=1, shuffle=False)\n",
    "test_loader = DataLoader(test_dataset, batch_size=1, shuffle=False)"
   ]
  },
  {
   "cell_type": "markdown",
   "metadata": {},
   "source": [
    "### 8. Train model"
   ]
  },
  {
   "cell_type": "code",
   "execution_count": 8,
   "metadata": {},
   "outputs": [
    {
     "name": "stderr",
     "output_type": "stream",
     "text": [
      "Epoch 1/100: 100%|██████████| 6/6 [00:03<00:00,  1.70it/s]\n"
     ]
    },
    {
     "name": "stdout",
     "output_type": "stream",
     "text": [
      "model state saved with validation accuracy: 52.1739\n"
     ]
    },
    {
     "name": "stderr",
     "output_type": "stream",
     "text": [
      "Epoch 2/100: 100%|██████████| 6/6 [00:02<00:00,  2.93it/s]\n"
     ]
    },
    {
     "name": "stdout",
     "output_type": "stream",
     "text": [
      "model state saved with validation accuracy: 54.3478\n"
     ]
    },
    {
     "name": "stderr",
     "output_type": "stream",
     "text": [
      "Epoch 3/100: 100%|██████████| 6/6 [00:01<00:00,  3.11it/s]\n"
     ]
    },
    {
     "name": "stdout",
     "output_type": "stream",
     "text": [
      "model state saved with validation accuracy: 57.2464\n"
     ]
    },
    {
     "name": "stderr",
     "output_type": "stream",
     "text": [
      "Epoch 4/100: 100%|██████████| 6/6 [00:01<00:00,  3.13it/s]\n",
      "Epoch 5/100: 100%|██████████| 6/6 [00:02<00:00,  2.97it/s]\n",
      "Epoch 6/100: 100%|██████████| 6/6 [00:01<00:00,  3.13it/s]\n",
      "Epoch 7/100: 100%|██████████| 6/6 [00:01<00:00,  3.16it/s]\n",
      "Epoch 8/100: 100%|██████████| 6/6 [00:01<00:00,  3.15it/s]\n"
     ]
    },
    {
     "name": "stdout",
     "output_type": "stream",
     "text": [
      "model state saved with validation accuracy: 61.5942\n"
     ]
    },
    {
     "name": "stderr",
     "output_type": "stream",
     "text": [
      "Epoch 9/100: 100%|██████████| 6/6 [00:01<00:00,  3.09it/s]\n"
     ]
    },
    {
     "name": "stdout",
     "output_type": "stream",
     "text": [
      "model state saved with validation accuracy: 63.7681\n"
     ]
    },
    {
     "name": "stderr",
     "output_type": "stream",
     "text": [
      "Epoch 10/100: 100%|██████████| 6/6 [00:01<00:00,  3.15it/s]\n"
     ]
    },
    {
     "name": "stdout",
     "output_type": "stream",
     "text": [
      "model state saved with validation accuracy: 66.6667\n"
     ]
    },
    {
     "name": "stderr",
     "output_type": "stream",
     "text": [
      "Epoch 11/100: 100%|██████████| 6/6 [00:01<00:00,  3.14it/s]\n",
      "Epoch 12/100: 100%|██████████| 6/6 [00:02<00:00,  2.69it/s]\n",
      "Epoch 13/100: 100%|██████████| 6/6 [00:01<00:00,  3.12it/s]\n",
      "Epoch 14/100: 100%|██████████| 6/6 [00:01<00:00,  3.14it/s]\n",
      "Epoch 15/100: 100%|██████████| 6/6 [00:01<00:00,  3.10it/s]\n",
      "Epoch 16/100: 100%|██████████| 6/6 [00:01<00:00,  3.14it/s]\n"
     ]
    },
    {
     "name": "stdout",
     "output_type": "stream",
     "text": [
      "model state saved with validation accuracy: 69.5652\n"
     ]
    },
    {
     "name": "stderr",
     "output_type": "stream",
     "text": [
      "Epoch 17/100: 100%|██████████| 6/6 [00:01<00:00,  3.09it/s]\n"
     ]
    },
    {
     "name": "stdout",
     "output_type": "stream",
     "text": [
      "model state saved with validation accuracy: 70.2899\n"
     ]
    },
    {
     "name": "stderr",
     "output_type": "stream",
     "text": [
      "Epoch 18/100: 100%|██████████| 6/6 [00:01<00:00,  3.07it/s]\n",
      "Epoch 19/100: 100%|██████████| 6/6 [00:01<00:00,  3.01it/s]\n"
     ]
    },
    {
     "name": "stdout",
     "output_type": "stream",
     "text": [
      "model state saved with validation accuracy: 71.0145\n"
     ]
    },
    {
     "name": "stderr",
     "output_type": "stream",
     "text": [
      "Epoch 20/100: 100%|██████████| 6/6 [00:01<00:00,  3.05it/s]\n",
      "Epoch 21/100: 100%|██████████| 6/6 [00:02<00:00,  3.00it/s]\n",
      "Epoch 22/100: 100%|██████████| 6/6 [00:01<00:00,  3.20it/s]\n"
     ]
    },
    {
     "name": "stdout",
     "output_type": "stream",
     "text": [
      "model state saved with validation accuracy: 76.8116\n"
     ]
    },
    {
     "name": "stderr",
     "output_type": "stream",
     "text": [
      "Epoch 23/100: 100%|██████████| 6/6 [00:01<00:00,  3.10it/s]\n"
     ]
    },
    {
     "name": "stdout",
     "output_type": "stream",
     "text": [
      "model state saved with validation accuracy: 79.7101\n"
     ]
    },
    {
     "name": "stderr",
     "output_type": "stream",
     "text": [
      "Epoch 24/100: 100%|██████████| 6/6 [00:01<00:00,  3.04it/s]\n"
     ]
    },
    {
     "name": "stdout",
     "output_type": "stream",
     "text": [
      "model state saved with validation accuracy: 84.0580\n"
     ]
    },
    {
     "name": "stderr",
     "output_type": "stream",
     "text": [
      "Epoch 25/100: 100%|██████████| 6/6 [00:02<00:00,  2.96it/s]\n",
      "Epoch 26/100: 100%|██████████| 6/6 [00:01<00:00,  3.07it/s]\n",
      "Epoch 27/100: 100%|██████████| 6/6 [00:01<00:00,  3.18it/s]\n",
      "Epoch 28/100: 100%|██████████| 6/6 [00:01<00:00,  3.19it/s]\n"
     ]
    },
    {
     "name": "stdout",
     "output_type": "stream",
     "text": [
      "model state saved with validation accuracy: 86.9565\n"
     ]
    },
    {
     "name": "stderr",
     "output_type": "stream",
     "text": [
      "Epoch 29/100: 100%|██████████| 6/6 [00:01<00:00,  3.05it/s]\n"
     ]
    },
    {
     "name": "stdout",
     "output_type": "stream",
     "text": [
      "model state saved with validation accuracy: 87.6812\n"
     ]
    },
    {
     "name": "stderr",
     "output_type": "stream",
     "text": [
      "Epoch 30/100: 100%|██████████| 6/6 [00:01<00:00,  3.17it/s]\n",
      "Epoch 31/100: 100%|██████████| 6/6 [00:01<00:00,  3.06it/s]\n",
      "Epoch 32/100: 100%|██████████| 6/6 [00:01<00:00,  3.09it/s]\n"
     ]
    },
    {
     "name": "stdout",
     "output_type": "stream",
     "text": [
      "model state saved with validation accuracy: 93.4783\n"
     ]
    },
    {
     "name": "stderr",
     "output_type": "stream",
     "text": [
      "Epoch 33/100: 100%|██████████| 6/6 [00:01<00:00,  3.15it/s]\n",
      "Epoch 34/100: 100%|██████████| 6/6 [00:01<00:00,  3.11it/s]\n",
      "Epoch 35/100: 100%|██████████| 6/6 [00:01<00:00,  3.16it/s]\n",
      "Epoch 36/100: 100%|██████████| 6/6 [00:01<00:00,  3.15it/s]\n",
      "Epoch 37/100: 100%|██████████| 6/6 [00:01<00:00,  3.17it/s]\n",
      "Epoch 38/100: 100%|██████████| 6/6 [00:01<00:00,  3.15it/s]\n",
      "Epoch 39/100: 100%|██████████| 6/6 [00:01<00:00,  3.15it/s]\n",
      "Epoch 40/100: 100%|██████████| 6/6 [00:01<00:00,  3.12it/s]\n",
      "Epoch 41/100: 100%|██████████| 6/6 [00:01<00:00,  3.11it/s]\n",
      "Epoch 42/100: 100%|██████████| 6/6 [00:01<00:00,  3.16it/s]\n",
      "Epoch 43/100: 100%|██████████| 6/6 [00:01<00:00,  3.10it/s]\n",
      "Epoch 44/100: 100%|██████████| 6/6 [00:01<00:00,  3.23it/s]\n",
      "Epoch 45/100: 100%|██████████| 6/6 [00:01<00:00,  3.17it/s]\n",
      "Epoch 46/100: 100%|██████████| 6/6 [00:01<00:00,  3.14it/s]\n",
      "Epoch 47/100: 100%|██████████| 6/6 [00:01<00:00,  3.22it/s]\n",
      "Epoch 48/100: 100%|██████████| 6/6 [00:01<00:00,  3.17it/s]\n",
      "Epoch 49/100: 100%|██████████| 6/6 [00:01<00:00,  3.03it/s]\n",
      "Epoch 50/100: 100%|██████████| 6/6 [00:01<00:00,  3.04it/s]\n",
      "Epoch 51/100: 100%|██████████| 6/6 [00:01<00:00,  3.14it/s]\n",
      "Epoch 52/100: 100%|██████████| 6/6 [00:01<00:00,  3.16it/s]\n"
     ]
    },
    {
     "name": "stdout",
     "output_type": "stream",
     "text": [
      "model state saved with validation accuracy: 95.6522\n"
     ]
    },
    {
     "name": "stderr",
     "output_type": "stream",
     "text": [
      "Epoch 53/100: 100%|██████████| 6/6 [00:01<00:00,  3.07it/s]\n",
      "Epoch 54/100: 100%|██████████| 6/6 [00:01<00:00,  3.07it/s]\n"
     ]
    },
    {
     "name": "stdout",
     "output_type": "stream",
     "text": [
      "model state saved with validation accuracy: 97.8261\n"
     ]
    },
    {
     "name": "stderr",
     "output_type": "stream",
     "text": [
      "Epoch 55/100: 100%|██████████| 6/6 [00:02<00:00,  2.93it/s]\n",
      "Epoch 56/100: 100%|██████████| 6/6 [00:01<00:00,  3.02it/s]\n",
      "Epoch 57/100: 100%|██████████| 6/6 [00:01<00:00,  3.19it/s]\n",
      "Epoch 58/100: 100%|██████████| 6/6 [00:01<00:00,  3.15it/s]\n",
      "Epoch 59/100: 100%|██████████| 6/6 [00:01<00:00,  3.21it/s]\n",
      "Epoch 60/100: 100%|██████████| 6/6 [00:01<00:00,  3.12it/s]\n",
      "Epoch 61/100: 100%|██████████| 6/6 [00:01<00:00,  3.16it/s]\n",
      "Epoch 62/100: 100%|██████████| 6/6 [00:01<00:00,  3.24it/s]\n",
      "Epoch 63/100: 100%|██████████| 6/6 [00:01<00:00,  3.15it/s]\n",
      "Epoch 64/100: 100%|██████████| 6/6 [00:01<00:00,  3.19it/s]\n",
      "Epoch 65/100: 100%|██████████| 6/6 [00:01<00:00,  3.11it/s]\n",
      "Epoch 66/100: 100%|██████████| 6/6 [00:01<00:00,  3.07it/s]\n",
      "Epoch 67/100: 100%|██████████| 6/6 [00:01<00:00,  3.01it/s]\n",
      "Epoch 68/100: 100%|██████████| 6/6 [00:01<00:00,  3.17it/s]\n",
      "Epoch 69/100: 100%|██████████| 6/6 [00:01<00:00,  3.25it/s]\n",
      "Epoch 70/100: 100%|██████████| 6/6 [00:01<00:00,  3.17it/s]\n",
      "Epoch 71/100: 100%|██████████| 6/6 [00:01<00:00,  3.13it/s]\n",
      "Epoch 72/100: 100%|██████████| 6/6 [00:01<00:00,  3.14it/s]\n",
      "Epoch 73/100: 100%|██████████| 6/6 [00:01<00:00,  3.17it/s]\n",
      "Epoch 74/100: 100%|██████████| 6/6 [00:01<00:00,  3.08it/s]\n",
      "Epoch 75/100: 100%|██████████| 6/6 [00:01<00:00,  3.12it/s]\n",
      "Epoch 76/100: 100%|██████████| 6/6 [00:01<00:00,  3.10it/s]\n",
      "Epoch 77/100: 100%|██████████| 6/6 [00:01<00:00,  3.06it/s]\n",
      "Epoch 78/100: 100%|██████████| 6/6 [00:01<00:00,  3.16it/s]\n",
      "Epoch 79/100: 100%|██████████| 6/6 [00:01<00:00,  3.06it/s]\n",
      "Epoch 80/100: 100%|██████████| 6/6 [00:01<00:00,  3.08it/s]\n",
      "Epoch 81/100: 100%|██████████| 6/6 [00:01<00:00,  3.11it/s]\n",
      "Epoch 82/100: 100%|██████████| 6/6 [00:01<00:00,  3.20it/s]\n",
      "Epoch 83/100: 100%|██████████| 6/6 [00:01<00:00,  3.21it/s]\n",
      "Epoch 84/100: 100%|██████████| 6/6 [00:01<00:00,  3.01it/s]\n",
      "Epoch 85/100: 100%|██████████| 6/6 [00:01<00:00,  3.02it/s]\n",
      "Epoch 86/100: 100%|██████████| 6/6 [00:01<00:00,  3.17it/s]\n",
      "Epoch 87/100: 100%|██████████| 6/6 [00:01<00:00,  3.11it/s]\n",
      "Epoch 88/100: 100%|██████████| 6/6 [00:01<00:00,  3.08it/s]\n",
      "Epoch 89/100: 100%|██████████| 6/6 [00:01<00:00,  3.17it/s]\n",
      "Epoch 90/100: 100%|██████████| 6/6 [00:01<00:00,  3.20it/s]\n",
      "Epoch 91/100: 100%|██████████| 6/6 [00:01<00:00,  3.12it/s]\n",
      "Epoch 92/100: 100%|██████████| 6/6 [00:01<00:00,  3.14it/s]\n",
      "Epoch 93/100: 100%|██████████| 6/6 [00:01<00:00,  3.16it/s]\n",
      "Epoch 94/100: 100%|██████████| 6/6 [00:01<00:00,  3.18it/s]\n",
      "Epoch 95/100: 100%|██████████| 6/6 [00:01<00:00,  3.20it/s]\n",
      "Epoch 96/100: 100%|██████████| 6/6 [00:01<00:00,  3.14it/s]\n",
      "Epoch 97/100: 100%|██████████| 6/6 [00:01<00:00,  3.12it/s]\n",
      "Epoch 98/100: 100%|██████████| 6/6 [00:01<00:00,  3.20it/s]\n",
      "Epoch 99/100: 100%|██████████| 6/6 [00:01<00:00,  3.14it/s]\n",
      "Epoch 100/100: 100%|██████████| 6/6 [00:01<00:00,  3.26it/s]\n"
     ]
    }
   ],
   "source": [
    "results= model_trainer(model,train_loader,val_loader,training_arg)"
   ]
  },
  {
   "cell_type": "markdown",
   "metadata": {},
   "source": [
    "### 9. Inspect training process"
   ]
  },
  {
   "cell_type": "code",
   "execution_count": 9,
   "metadata": {},
   "outputs": [
    {
     "data": {
      "image/png": "[encoded data removed]",
      "text/plain": [
       "<Figure size 640x480 with 1 Axes>"
      ]
     },
     "metadata": {},
     "output_type": "display_data"
    },
    {
     "data": {
      "image/png": "[encoded data removed]",
      "text/plain": [
       "<Figure size 640x480 with 1 Axes>"
      ]
     },
     "metadata": {},
     "output_type": "display_data"
    }
   ],
   "source": [
    "plt.figure()\n",
    "plt.plot(results['epoch_loss'])\n",
    "plt.xlabel('epoch')\n",
    "plt.ylabel('Avg loss')\n",
    "plt.show()\n",
    "\n",
    "\n",
    "plt.figure()\n",
    "plt.plot(results['training_acc'],label='Training data')\n",
    "plt.plot(results['validation_acc'],label='Validation data')\n",
    "plt.legend()\n",
    "plt.xlabel('epoch')\n",
    "plt.ylabel('Accuracy')\n",
    "plt.show()"
   ]
  },
  {
   "cell_type": "markdown",
   "metadata": {},
   "source": [
    "### 10. Evaluate model"
   ]
  },
  {
   "cell_type": "code",
   "execution_count": 10,
   "metadata": {},
   "outputs": [
    {
     "name": "stdout",
     "output_type": "stream",
     "text": [
      "Fine tune model loaded\n",
      "Train Binary Accuracy: 97.8261\n",
      "Confusion Matrix:\n",
      "[[164   4]\n",
      " [  3 151]]\n",
      "Accuracy: 97.82608695652173\n",
      "Precision: 97.41935483870968\n",
      "Sensitivity (Recall): 98.05194805194806\n",
      "Specificity: 97.61904761904762\n",
      "F1 Score: 0.9773462783171522\n",
      "AUC Score: 0.9988017934446506\n",
      "\n",
      "\n",
      "Validation Binary Accuracy: 97.8261\n",
      "Confusion Matrix:\n",
      "[[70  2]\n",
      " [ 1 65]]\n",
      "Accuracy: 97.82608695652173\n",
      "Precision: 97.01492537313433\n",
      "Sensitivity (Recall): 98.48484848484848\n",
      "Specificity: 97.22222222222221\n",
      "F1 Score: 0.9774436090225564\n",
      "AUC Score: 0.9972643097643098\n",
      "\n",
      "\n",
      "Test Binary Accuracy: 95.6522\n",
      "Confusion Matrix:\n",
      "[[46  2]\n",
      " [ 2 42]]\n",
      "Accuracy: 95.65217391304348\n",
      "Precision: 95.45454545454545\n",
      "Sensitivity (Recall): 95.45454545454545\n",
      "Specificity: 95.83333333333334\n",
      "F1 Score: 0.9545454545454546\n",
      "AUC Score: 0.9971590909090909\n",
      "Completed\n"
     ]
    }
   ],
   "source": [
    "best_model_state=torch.load(cnn_modelfullpath, map_location=device)\n",
    "model.load_state_dict(best_model_state,strict=True)\n",
    "model.eval()\n",
    "print('Fine tune model loaded')\n",
    "\n",
    "tr_accuracy, tr_est,tr_labels,tr_scores= evaluate_binary_accuracy(model, train_loader)\n",
    "print(f'Train Binary Accuracy: {tr_accuracy:.4f}')\n",
    "perf_metrics(tr_labels, tr_est,tr_scores)\n",
    "print('\\n')\n",
    "v_accuracy,val_est,val_labels, val_scores = evaluate_binary_accuracy(model, val_loader)\n",
    "print(f'Validation Binary Accuracy: {v_accuracy:.4f}')\n",
    "perf_metrics(val_labels, val_est,val_scores)\n",
    "print('\\n')\n",
    "test_accuracy,test_est,test_labels, test_scores = evaluate_binary_accuracy(model, test_loader)\n",
    "print(f'Test Binary Accuracy: {test_accuracy:.4f}')\n",
    "perf_metrics(test_labels, test_est,test_scores)\n",
    "\n",
    "print('Completed')"
   ]
  }
 ],
 "metadata": {
  "kernelspec": {
   "display_name": "mybertV2",
   "language": "python",
   "name": "python3"
  },
  "language_info": {
   "codemirror_mode": {
    "name": "ipython",
    "version": 3
   },
   "file_extension": ".py",
   "mimetype": "text/x-python",
   "name": "python",
   "nbconvert_exporter": "python",
   "pygments_lexer": "ipython3",
   "version": "3.9.18"
  }
 },
 "nbformat": 4,
 "nbformat_minor": 2
}
